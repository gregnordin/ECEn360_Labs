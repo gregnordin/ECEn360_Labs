{
 "cells": [
  {
   "cell_type": "code",
   "execution_count": 2,
   "metadata": {
    "collapsed": true
   },
   "outputs": [],
   "source": [
    "import cmath\n",
    "import matplotlib.pyplot as plt\n",
    "%matplotlib inline\n",
    "import numpy as np\n",
    "import pprint\n",
    "pp = pprint.PrettyPrinter(indent=1)"
   ]
  },
  {
   "cell_type": "code",
   "execution_count": 6,
   "metadata": {
    "collapsed": false
   },
   "outputs": [],
   "source": [
    "def wavelength_m(freq_Hz):\n",
    "    return 2e8/freq_Hz\n",
    "    \n",
    "wavelength_m_vec = np.vectorize(wavelength_m)\n",
    "\n",
    "def gamma_L(Z0, ZL):\n",
    "    if ZL == 0:\n",
    "        return 1.0\n",
    "    elif ZL == 'infinite' or ZL == 'open':\n",
    "        return -1.0\n",
    "    else:\n",
    "        return (ZL - Z0)/(ZL + Z0)\n",
    "\n",
    "def gamma_in(Z0, ZL, l_m, wavelength_m):\n",
    "    gamma_load = gamma_L(Z0, ZL)\n",
    "    beta = 2*cmath.pi/wavelength_m\n",
    "    temp = gamma_load * cmath.exp(-1j * 2 * beta * l_m)\n",
    "    return temp\n",
    "\n",
    "def gamma_in_from_gammaL(gamma_load, l_m, wavelength_m):\n",
    "    beta = 2*cmath.pi/wavelength_m\n",
    "    temp = gamma_load * cmath.exp(-1j * 2 * beta * l_m)\n",
    "    return temp\n",
    "\n",
    "def z_in(Z0, gamma_in):\n",
    "    return Z0 * (1. + gamma_in) / (1. - gamma_in)"
   ]
  },
  {
   "cell_type": "code",
   "execution_count": 9,
   "metadata": {
    "collapsed": false
   },
   "outputs": [
    {
     "name": "stdout",
     "output_type": "stream",
     "text": [
      "Frequency (Hz): 20000000.0\n",
      "Wavelength (m): 10.0\n",
      "Load reflection coefficient: 0.172\n",
      "   Reflection coefficient 2: -0.172-0.000j\n",
      "  Reflection coefficient 2a: -0.172-0.000j\n",
      "                     Z_in_2: 49.985-0.000j\n",
      "   Reflection coefficient 1: 0.000+0.000j\n",
      "                  magnitude: 0.000\n"
     ]
    }
   ],
   "source": [
    "freq_Hz = 20e6\n",
    "w_m = wavelength_m(freq_Hz)\n",
    "Z0_2 = 70.7\n",
    "Z0_1 = 50.\n",
    "Z_L = 100.\n",
    "\n",
    "reflcoef_L = gamma_L(Z0_2, Z_L)\n",
    "reflcoef_2 = gamma_in(Z0_2, Z_L, w_m/4, w_m)\n",
    "reflcoef_2a = gamma_in_from_gammaL(reflcoef_L, (90./360.)*w_m, w_m)\n",
    "zin_2 = z_in(Z0_2, reflcoef_2)\n",
    "reflcoef_1 = gamma_in(Z0_1, zin_2, (67./360.)*w_m, w_m)\n",
    "\n",
    "print('Frequency (Hz):', freq_Hz)\n",
    "print('Wavelength (m):', w_m)\n",
    "print('Load reflection coefficient: {:5.3f}'.format(reflcoef_L))\n",
    "print('   Reflection coefficient 2: {:5.3f}'.format(reflcoef_2))\n",
    "print('  Reflection coefficient 2a: {:5.3f}'.format(reflcoef_2a))\n",
    "print('                     Z_in_2: {:5.3f}'.format(zin_2))\n",
    "print('   Reflection coefficient 1: {:5.3f}'.format(reflcoef_1))\n",
    "print('                  magnitude: {:5.3f}'.format(abs(reflcoef_1)))\n"
   ]
  },
  {
   "cell_type": "code",
   "execution_count": null,
   "metadata": {
    "collapsed": true
   },
   "outputs": [],
   "source": []
  }
 ],
 "metadata": {
  "anaconda-cloud": {},
  "kernelspec": {
   "display_name": "Python [conda root]",
   "language": "python",
   "name": "conda-root-py"
  },
  "language_info": {
   "codemirror_mode": {
    "name": "ipython",
    "version": 3
   },
   "file_extension": ".py",
   "mimetype": "text/x-python",
   "name": "python",
   "nbconvert_exporter": "python",
   "pygments_lexer": "ipython3",
   "version": "3.5.2"
  },
  "latex_envs": {
   "LaTeX_envs_menu_present": true,
   "bibliofile": "biblio.bib",
   "cite_by": "apalike",
   "current_citInitial": 1,
   "eqLabelWithNumbers": true,
   "eqNumInitial": 1,
   "labels_anchors": false,
   "latex_user_defs": false,
   "report_style_numbering": false,
   "user_envs_cfg": false
  },
  "toc": {
   "colors": {
    "hover_highlight": "#DAA520",
    "running_highlight": "#FF0000",
    "selected_highlight": "#FFD700"
   },
   "moveMenuLeft": true,
   "nav_menu": {
    "height": "12px",
    "width": "252px"
   },
   "navigate_menu": true,
   "number_sections": true,
   "sideBar": true,
   "threshold": 4,
   "toc_cell": false,
   "toc_section_display": "block",
   "toc_window_display": false
  }
 },
 "nbformat": 4,
 "nbformat_minor": 1
}
