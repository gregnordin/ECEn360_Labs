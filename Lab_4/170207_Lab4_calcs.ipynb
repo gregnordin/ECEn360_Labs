{
 "cells": [
  {
   "cell_type": "code",
   "execution_count": 1,
   "metadata": {},
   "outputs": [],
   "source": [
    "import numpy as np\n",
    "import matplotlib.pyplot as plt\n",
    "%matplotlib inline\n",
    "\n",
    "import cmath"
   ]
  },
  {
   "cell_type": "markdown",
   "metadata": {},
   "source": [
    "\\begin{align}\n",
    "  \\tilde{V}(z) &= V^+_0\\exp(-j\\beta z) + V^-_0\\exp(j\\beta z)\n",
    "\\end{align}\n",
    "\n",
    "with $\\beta = 2\\pi/\\lambda$ and $\\lambda = u/f$ where $u$ is the propagation velocity ($\\sim2/3 c$) and $f$ is the frequency."
   ]
  },
  {
   "cell_type": "code",
   "execution_count": 2,
   "metadata": {},
   "outputs": [
    {
     "name": "stdout",
     "output_type": "stream",
     "text": [
      "Freq (Hz)  Lambda (m)| l (m)     Beta*l/pi   Beta*l  |   l (m)    Beta*l/pi   Beta*l\n",
      "-----------------------------------------------------------------------------------\n",
      "1.00E+05     2000.0  |   0.305     0.000      0.001  |   7.620     0.008      0.024\n",
      "5.00E+05      400.0  |   0.305     0.002      0.005  |   7.620     0.038      0.120\n",
      "1.00E+06      200.0  |   0.305     0.003      0.010  |   7.620     0.076      0.239\n",
      "1.50E+06      133.3  |   0.305     0.005      0.014  |   7.620     0.114      0.359\n",
      "2.00E+06      100.0  |   0.305     0.006      0.019  |   7.620     0.152      0.479\n",
      "2.50E+06       80.0  |   0.305     0.008      0.024  |   7.620     0.191      0.598\n",
      "3.00E+06       66.7  |   0.305     0.009      0.029  |   7.620     0.229      0.718\n",
      "3.50E+06       57.1  |   0.305     0.011      0.034  |   7.620     0.267      0.838\n",
      "4.00E+06       50.0  |   0.305     0.012      0.038  |   7.620     0.305      0.958\n",
      "4.50E+06       44.4  |   0.305     0.014      0.043  |   7.620     0.343      1.077\n",
      "5.00E+06       40.0  |   0.305     0.015      0.048  |   7.620     0.381      1.197\n",
      "5.50E+06       36.4  |   0.305     0.017      0.053  |   7.620     0.419      1.317\n",
      "6.00E+06       33.3  |   0.305     0.018      0.057  |   7.620     0.457      1.436\n",
      "6.50E+06       30.8  |   0.305     0.020      0.062  |   7.620     0.495      1.556\n",
      "7.00E+06       28.6  |   0.305     0.021      0.067  |   7.620     0.533      1.676\n",
      "7.50E+06       26.7  |   0.305     0.023      0.072  |   7.620     0.572      1.795\n",
      "8.00E+06       25.0  |   0.305     0.024      0.077  |   7.620     0.610      1.915\n",
      "8.50E+06       23.5  |   0.305     0.026      0.081  |   7.620     0.648      2.035\n",
      "9.00E+06       22.2  |   0.305     0.027      0.086  |   7.620     0.686      2.155\n",
      "9.50E+06       21.1  |   0.305     0.029      0.091  |   7.620     0.724      2.274\n",
      "1.00E+07       20.0  |   0.305     0.030      0.096  |   7.620     0.762      2.394\n",
      "1.05E+07       19.0  |   0.305     0.032      0.101  |   7.620     0.800      2.514\n",
      "1.10E+07       18.2  |   0.305     0.034      0.105  |   7.620     0.838      2.633\n",
      "1.15E+07       17.4  |   0.305     0.035      0.110  |   7.620     0.876      2.753\n",
      "1.20E+07       16.7  |   0.305     0.037      0.115  |   7.620     0.914      2.873\n",
      "1.25E+07       16.0  |   0.305     0.038      0.120  |   7.620     0.953      2.992\n",
      "1.30E+07       15.4  |   0.305     0.040      0.124  |   7.620     0.991      3.112\n",
      "1.35E+07       14.8  |   0.305     0.041      0.129  |   7.620     1.029      3.232\n",
      "1.40E+07       14.3  |   0.305     0.043      0.134  |   7.620     1.067      3.351\n",
      "1.45E+07       13.8  |   0.305     0.044      0.139  |   7.620     1.105      3.471\n",
      "1.50E+07       13.3  |   0.305     0.046      0.144  |   7.620     1.143      3.591\n",
      "1.55E+07       12.9  |   0.305     0.047      0.148  |   7.620     1.181      3.711\n",
      "1.60E+07       12.5  |   0.305     0.049      0.153  |   7.620     1.219      3.830\n",
      "1.65E+07       12.1  |   0.305     0.050      0.158  |   7.620     1.257      3.950\n",
      "1.70E+07       11.8  |   0.305     0.052      0.163  |   7.620     1.295      4.070\n",
      "1.75E+07       11.4  |   0.305     0.053      0.168  |   7.620     1.333      4.189\n",
      "1.80E+07       11.1  |   0.305     0.055      0.172  |   7.620     1.372      4.309\n",
      "1.85E+07       10.8  |   0.305     0.056      0.177  |   7.620     1.410      4.429\n",
      "1.90E+07       10.5  |   0.305     0.058      0.182  |   7.620     1.448      4.548\n",
      "1.95E+07       10.3  |   0.305     0.059      0.187  |   7.620     1.486      4.668\n",
      "2.00E+07       10.0  |   0.305     0.061      0.192  |   7.620     1.524      4.788\n"
     ]
    }
   ],
   "source": [
    "m_div_ft = 0.3048\n",
    "\n",
    "def beta(f):\n",
    "    return 2*np.pi / wavelength(f)\n",
    "\n",
    "def wavelength(f):\n",
    "    return 2.e8 / f\n",
    "\n",
    "l_ft = 1.0\n",
    "l_m = l_ft * m_div_ft\n",
    "l_25ft = 25.0\n",
    "l_25ft_m = l_25ft * m_div_ft\n",
    "\n",
    "temp1 = np.array([100e3, 500e3])\n",
    "temp2 = np.arange(1e6, 20.5e6, 0.5e6)\n",
    "frequencies = np.concatenate( (temp1, temp2), axis=0 )\n",
    "\n",
    "print(\"Freq (Hz)  Lambda (m)| l (m)     Beta*l/pi   Beta*l  |   l (m)    Beta*l/pi   Beta*l\")\n",
    "print(\"------------------------------------------------------------------------------------\")\n",
    "for f in frequencies:\n",
    "    print(\"{:.2E}     {:6.1f}  |   {:.3f}     {:5.3f}      {:5.3f}  |   {:.3f}     {:5.3f}      {:5.3f}\".format(\n",
    "            f, wavelength(f), l_m, l_m*beta(f)/(np.pi), l_m*beta(f), l_25ft_m, l_25ft_m*beta(f)/(np.pi), l_25ft_m*beta(f)))"
   ]
  },
  {
   "cell_type": "code",
   "execution_count": null,
   "metadata": {
    "collapsed": true,
    "jupyter": {
     "outputs_hidden": true
    }
   },
   "outputs": [],
   "source": []
  },
  {
   "cell_type": "markdown",
   "metadata": {},
   "source": [
    "## 2/6/18 - The code below needs debugged"
   ]
  },
  {
   "cell_type": "code",
   "execution_count": 36,
   "metadata": {
    "collapsed": true,
    "jupyter": {
     "outputs_hidden": true
    }
   },
   "outputs": [],
   "source": [
    "def gamma_in_func(refl, f, z):\n",
    "    return refl * cmath.exp(-1j * 2 * beta(f) * z)\n",
    "\n",
    "def z_in_func(refl_in):\n",
    "    return (1.0 + refl_in) / (1.0 - refl_in)\n",
    "\n",
    "def v_in_func(v_g, z_g, z_in):\n",
    "    return v_g * (z_in / (z_in + z_g))\n",
    "\n",
    "def v0_plus_func(v_in, gamma_in, beta, l):\n",
    "    return v_in * cmath.exp(-1j * beta * l) / (1.0 + gamma_in)"
   ]
  },
  {
   "cell_type": "code",
   "execution_count": 33,
   "metadata": {},
   "outputs": [
    {
     "data": {
      "text/plain": [
       "(0.8875582226356564-0.46069556263527706j)"
      ]
     },
     "execution_count": 33,
     "metadata": {},
     "output_type": "execute_result"
    }
   ],
   "source": [
    "gamma_L = 1.0\n",
    "gamma_in_func(gamma_L, 1e6, l_25ft_m)"
   ]
  },
  {
   "cell_type": "code",
   "execution_count": 38,
   "metadata": {},
   "outputs": [
    {
     "name": "stdout",
     "output_type": "stream",
     "text": [
      "1.0e+05    0.999 -0.048j     1.0    -0.000 -41.765j    0.411 -0.492j    0.206 -0.246j\n",
      "5.0e+05    0.971 -0.237j     1.0     0.000  -8.315j    0.027 -0.162j    0.014 -0.081j\n",
      "1.0e+06    0.888 -0.461j     1.0     0.000  -4.097j    0.007 -0.081j    0.003 -0.042j\n",
      "1.5e+06    0.753 -0.658j     1.0     0.000  -2.664j    0.003 -0.053j    0.002 -0.028j\n",
      "2.0e+06    0.576 -0.818j     1.0     0.000  -1.927j    0.001 -0.038j    0.001 -0.022j\n",
      "2.5e+06    0.365 -0.931j     1.0     0.000  -1.466j    0.001 -0.029j    0.001 -0.018j\n",
      "3.0e+06    0.134 -0.991j     1.0    -0.000  -1.144j    0.001 -0.023j    0.000 -0.015j\n",
      "3.5e+06   -0.105 -0.994j     1.0     0.000  -0.900j    0.000 -0.018j    0.000 -0.013j\n",
      "4.0e+06   -0.338 -0.941j     1.0     0.000  -0.704j    0.000 -0.014j    0.000 -0.012j\n",
      "4.5e+06   -0.551 -0.834j     1.0     0.000  -0.538j    0.000 -0.011j    0.000 -0.011j\n",
      "5.0e+06   -0.733 -0.680j     1.0    -0.000  -0.392j    0.000 -0.008j    0.000 -0.011j\n",
      "5.5e+06   -0.874 -0.487j     1.0     0.000  -0.260j    0.000 -0.005j    0.000 -0.010j\n",
      "6.0e+06   -0.964 -0.266j     1.0     0.000  -0.135j    0.000 -0.003j    0.000 -0.010j\n",
      "6.5e+06   -1.000 -0.030j     1.0     0.000  -0.015j    0.000 -0.000j    0.000 -0.010j\n",
      "7.0e+06   -0.978  0.208j     1.0    -0.000   0.105j    0.000  0.002j   -0.000 -0.010j\n",
      "7.5e+06   -0.901  0.434j     1.0     0.000   0.228j    0.000  0.005j   -0.000 -0.010j\n",
      "8.0e+06   -0.772  0.635j     1.0    -0.000   0.359j    0.000  0.007j   -0.000 -0.011j\n",
      "8.5e+06   -0.599  0.800j     1.0    -0.000   0.500j    0.000  0.010j   -0.000 -0.011j\n",
      "9.0e+06   -0.393  0.920j     1.0    -0.000   0.660j    0.000  0.013j   -0.000 -0.012j\n",
      "9.5e+06   -0.163  0.987j     1.0     0.000   0.848j    0.000  0.017j   -0.000 -0.013j\n",
      "1.0e+07    0.075  0.997j     1.0     0.000   1.078j    0.000  0.022j   -0.000 -0.015j\n",
      "1.0e+07    0.310  0.951j     1.0     0.000   1.377j    0.001  0.028j   -0.000 -0.017j\n",
      "1.1e+07    0.526  0.850j     1.0    -0.000   1.795j    0.001  0.036j   -0.001 -0.021j\n",
      "1.2e+07    0.713  0.701j     1.0    -0.000   2.442j    0.002  0.049j   -0.001 -0.026j\n",
      "1.2e+07    0.859  0.512j     1.0     0.000   3.628j    0.005  0.072j   -0.003 -0.037j\n",
      "1.2e+07    0.956  0.294j     1.0     0.000   6.651j    0.017  0.131j   -0.009 -0.066j\n",
      "1.3e+07    0.998  0.059j     1.0    -0.000  33.853j    0.314  0.464j   -0.157 -0.232j\n",
      "1.4e+07    0.984 -0.179j     1.0     0.000 -11.061j    0.047 -0.211j   -0.023  0.106j\n",
      "1.4e+07    0.913 -0.408j     1.0    -0.000  -4.695j    0.009 -0.093j   -0.004  0.048j\n",
      "1.4e+07    0.791 -0.612j     1.0     0.000  -2.924j    0.003 -0.058j   -0.002  0.031j\n",
      "1.5e+07    0.623 -0.782j     1.0     0.000  -2.074j    0.002 -0.041j   -0.001  0.023j\n",
      "1.6e+07    0.420 -0.908j     1.0    -0.000  -1.564j    0.001 -0.031j   -0.001  0.019j\n",
      "1.6e+07    0.192 -0.981j     1.0    -0.000  -1.215j    0.001 -0.024j   -0.000  0.016j\n",
      "1.6e+07   -0.046 -0.999j     1.0     0.000  -0.955j    0.000 -0.019j   -0.000  0.014j\n",
      "1.7e+07   -0.281 -0.960j     1.0     0.000  -0.749j    0.000 -0.015j   -0.000  0.012j\n",
      "1.8e+07   -0.501 -0.866j     1.0    -0.000  -0.577j    0.000 -0.012j   -0.000  0.012j\n",
      "1.8e+07   -0.692 -0.722j     1.0     0.000  -0.427j    0.000 -0.009j   -0.000  0.011j\n",
      "1.8e+07   -0.843 -0.537j     1.0     0.000  -0.292j    0.000 -0.006j   -0.000  0.010j\n",
      "1.9e+07   -0.947 -0.322j     1.0     0.000  -0.165j    0.000 -0.003j   -0.000  0.010j\n",
      "2.0e+07   -0.996 -0.088j     1.0     0.000  -0.044j    0.000 -0.001j   -0.000  0.010j\n",
      "2.0e+07   -0.989  0.150j     1.0    -0.000   0.076j    0.000  0.002j    0.000  0.010j\n"
     ]
    }
   ],
   "source": [
    "v_gen = 1.0\n",
    "z_gen = 50.0\n",
    "\n",
    "for f in frequencies:\n",
    "    refl_in = gamma_in_func(gamma_L, f, l_25ft_m)\n",
    "    z_in_value = z_in_func(refl_in)\n",
    "    v_in_value = v_in_func(v_gen, z_gen, z_in_value)\n",
    "    v0_plus_value = v0_plus_func(v_in_value, refl_in, beta(f), l_25ft_m)\n",
    "    print('{:.1e}   {:6.3f} {:6.3f}j   {:5.3}   {:7.3f} {:7.3f}j   {:6.3f} {:6.3f}j   {:6.3f} {:6.3f}j'.format(\n",
    "        f, refl_in.real, refl_in.imag, abs(refl_in), z_in_value.real, z_in_value.imag, v_in_value.real, v_in_value.imag, \n",
    "        v0_plus_value.real, v0_plus_value.imag))"
   ]
  },
  {
   "cell_type": "code",
   "execution_count": null,
   "metadata": {
    "collapsed": true,
    "jupyter": {
     "outputs_hidden": true
    }
   },
   "outputs": [],
   "source": []
  }
 ],
 "metadata": {
  "anaconda-cloud": {},
  "kernelspec": {
   "display_name": "anaconda_py38",
   "language": "python",
   "name": "anaconda_py38"
  },
  "language_info": {
   "codemirror_mode": {
    "name": "ipython",
    "version": 3
   },
   "file_extension": ".py",
   "mimetype": "text/x-python",
   "name": "python",
   "nbconvert_exporter": "python",
   "pygments_lexer": "ipython3",
   "version": "3.8.5"
  },
  "latex_envs": {
   "LaTeX_envs_menu_present": true,
   "bibliofile": "biblio.bib",
   "cite_by": "apalike",
   "current_citInitial": 1,
   "eqLabelWithNumbers": true,
   "eqNumInitial": 1,
   "labels_anchors": false,
   "latex_user_defs": false,
   "report_style_numbering": false,
   "user_envs_cfg": false
  },
  "toc": {
   "colors": {
    "hover_highlight": "#DAA520",
    "navigate_num": "#000000",
    "navigate_text": "#333333",
    "running_highlight": "#FF0000",
    "selected_highlight": "#FFD700",
    "sidebar_border": "#EEEEEE",
    "wrapper_background": "#FFFFFF"
   },
   "moveMenuLeft": true,
   "nav_menu": {
    "height": "12px",
    "width": "252px"
   },
   "navigate_menu": true,
   "number_sections": true,
   "sideBar": true,
   "threshold": 4,
   "toc_cell": false,
   "toc_section_display": "block",
   "toc_window_display": false,
   "widenNotebook": false
  }
 },
 "nbformat": 4,
 "nbformat_minor": 4
}
