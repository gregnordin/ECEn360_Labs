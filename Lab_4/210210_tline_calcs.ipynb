{
 "cells": [
  {
   "cell_type": "markdown",
   "id": "quick-jurisdiction",
   "metadata": {},
   "source": [
    "# Purpose\n",
    "\n",
    "Implement transmission line equations from table at [How to Calculate $V^+_0$ With the Algebraic and Smith Chart Methods](https://github.com/gregnordin/ECEn360_W15/blob/master/transmission_lines/01e_steps_to_calc_V0plus.ipynb)."
   ]
  },
  {
   "cell_type": "code",
   "execution_count": 1,
   "id": "korean-approach",
   "metadata": {},
   "outputs": [],
   "source": [
    "import numpy as np\n",
    "import matplotlib.pyplot as plt\n",
    "%matplotlib inline\n",
    "\n",
    "import cmath as cm"
   ]
  },
  {
   "cell_type": "code",
   "execution_count": 2,
   "id": "cooperative-contemporary",
   "metadata": {},
   "outputs": [],
   "source": [
    "def wavelength(f, velocity_mps):\n",
    "    return velocity_mps / f\n",
    "\n",
    "def beta(wavelength_m):\n",
    "    return 2*np.pi / wavelength_m\n",
    "\n",
    "def refl_load(Z_L, Z_0):\n",
    "    return (Z_L - Z_0) / (Z_L + Z_0)\n",
    "\n",
    "def refl_input(refl_load, beta, length_m):\n",
    "    return refl_load * cm.exp(complex(0, -2 * beta * length_m))\n",
    "\n",
    "def Z_in(Z_0, refl_in):\n",
    "    return Z_0 * (1 + refl_in) / (1 - refl_in)\n",
    "\n",
    "def V_in(V_g, z_in, Z_g):\n",
    "    return V_g * z_in / (z_in + Z_g)\n",
    "\n",
    "def V0_plus(v_in, beta_invm, length_m, refl_in):\n",
    "    return v_in * cm.exp(complex(0, -beta_invm * length_m)) / (1 + refl_in)"
   ]
  },
  {
   "cell_type": "code",
   "execution_count": 7,
   "id": "irish-comparison",
   "metadata": {},
   "outputs": [
    {
     "name": "stdout",
     "output_type": "stream",
     "text": [
      "  Tline length: 10.0 (m)\n",
      "     Frequency: 10,000,000.0 (Hz)\n",
      "Phase velocity: 200,000,000.0 (m/s)\n",
      "Load impedance: 1,000,000,000,000.0 (Ohm)\n"
     ]
    }
   ],
   "source": [
    "# Parameters that need specified\n",
    "length_m = 10.0\n",
    "frequency_Hz = 1e7\n",
    "velocity_mps = 2e8\n",
    "Z_L = 1e12\n",
    "Z_0 = 50.0\n",
    "Z_g = 50.0\n",
    "V_g = 1.0\n",
    "\n",
    "print(f\"  Tline length: {length_m} (m)\")\n",
    "print(f\"     Frequency: {frequency_Hz:,} (Hz)\")\n",
    "print(f\"Phase velocity: {velocity_mps:,} (m/s)\")\n",
    "print(f\"Load impedance: {Z_L:,} (Ohm)\")"
   ]
  },
  {
   "cell_type": "code",
   "execution_count": 8,
   "id": "assumed-pendant",
   "metadata": {},
   "outputs": [
    {
     "name": "stdout",
     "output_type": "stream",
     "text": [
      "         Wavelength: 20.0 (m)\n",
      "       Tline length: 0.5 (wavelengths)\n",
      "               Beta: 0.3141592653589793 (1/m)\n",
      " Reflection at load: 0.9999999999\n",
      "Reflection at input: (0.9999999999+2.449293598049777e-16j)\n",
      "    Input impedance: (999999917203.6368+2449293.1927242116j) (Ohm)\n",
      "Input impedance magnitude: 999,999,917,206.6364 (Ohm)\n",
      "      Input voltage: (0.99999999995+1.2246473774312664e-16j) (V)\n",
      "            V0_plus: (-0.5-6.123236887768655e-17j) (V)\n"
     ]
    }
   ],
   "source": [
    "wavelength_m = wavelength(frequency_Hz, velocity_mps)\n",
    "beta_invm = beta(wavelength_m)\n",
    "refl_L = refl_load(Z_L, Z_0)\n",
    "refl_in = refl_input(refl_L, beta_invm, length_m)\n",
    "z_in = Z_in(Z_0, refl_in)\n",
    "v_in = V_in(V_g, z_in, Z_g)\n",
    "v0_plus = V0_plus(v_in, beta_invm, length_m, refl_in)\n",
    "\n",
    "print(f\"         Wavelength: {wavelength_m} (m)\")\n",
    "print(f\"       Tline length: {length_m / wavelength_m} (wavelengths)\")\n",
    "print(f\"               Beta: {beta_invm} (1/m)\")\n",
    "print(f\" Reflection at load: {refl_L}\")\n",
    "print(f\"Reflection at input: {refl_in}\")\n",
    "print(f\"    Input impedance: {z_in} (Ohm)\")\n",
    "print(f\"Input impedance magnitude: {np.abs(z_in):,} (Ohm)\")\n",
    "print(f\"      Input voltage: {v_in} (V)\")\n",
    "print(f\"            V0_plus: {v0_plus} (V)\")\n"
   ]
  },
  {
   "cell_type": "code",
   "execution_count": null,
   "id": "tropical-pressure",
   "metadata": {},
   "outputs": [],
   "source": []
  }
 ],
 "metadata": {
  "kernelspec": {
   "display_name": "anaconda_py38",
   "language": "python",
   "name": "anaconda_py38"
  },
  "language_info": {
   "codemirror_mode": {
    "name": "ipython",
    "version": 3
   },
   "file_extension": ".py",
   "mimetype": "text/x-python",
   "name": "python",
   "nbconvert_exporter": "python",
   "pygments_lexer": "ipython3",
   "version": "3.8.5"
  }
 },
 "nbformat": 4,
 "nbformat_minor": 5
}
