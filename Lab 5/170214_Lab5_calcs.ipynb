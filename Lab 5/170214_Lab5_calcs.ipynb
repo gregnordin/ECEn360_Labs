{
 "cells": [
  {
   "cell_type": "markdown",
   "metadata": {},
   "source": [
    "# Not finished - do not use\n",
    "\n",
    "Circuit:\n",
    "\n",
    "<img src=\"Circuit_Lab5.png\">"
   ]
  },
  {
   "cell_type": "code",
   "execution_count": 20,
   "metadata": {
    "collapsed": true
   },
   "outputs": [],
   "source": [
    "import cmath\n",
    "import matplotlib.pyplot as plt\n",
    "%matplotlib inline\n",
    "import numpy as np"
   ]
  },
  {
   "cell_type": "code",
   "execution_count": 21,
   "metadata": {
    "collapsed": true
   },
   "outputs": [],
   "source": [
    "l3_ft = 25.\n",
    "ft_to_m = 0.3048\n",
    "l3_m = l3_ft * ft_to_m"
   ]
  },
  {
   "cell_type": "code",
   "execution_count": 29,
   "metadata": {
    "collapsed": false
   },
   "outputs": [],
   "source": [
    "def wavelength_m(freq_Hz):\n",
    "    return 2e8/freq_Hz\n",
    "    \n",
    "wavelength_m_vec = np.vectorize(wavelength_m)\n",
    "\n",
    "def gamma_L(Z0, ZL):\n",
    "    if ZL == 0:\n",
    "        return 1.0\n",
    "    elif ZL == 'infinite' or ZL == 'open':\n",
    "        return -1.0\n",
    "    else:\n",
    "        return (ZL - Z0)/(ZL + Z0)\n",
    "\n",
    "def gamma_in(Z0, ZL, l_m, wavelength_m):\n",
    "    gamma_load = gamma_L(Z0, ZL)\n",
    "    beta = 2*cmath.pi/wavelength_m\n",
    "    temp = gamma_load * cmath.exp(-1j * 2 * beta * l_m)\n",
    "    return temp\n",
    "\n",
    "def input_impedance(Z0, ZL, l_m, wavelength_m):\n",
    "    temp = gamma_in(Z0, ZL, l_m, wavelength_m)\n",
    "    return Z0 * (1 + temp) / (1 - temp)\n",
    "    \n",
    "def z_parallel(Z1, Z2):\n",
    "    return Z1*Z2 / (Z1 + Z2)\n",
    "\n",
    "def z_total(Z0, ZL, l1_m, l2_m, l3_m, wavelength_m):\n",
    "    z1 = input_impedance(z0, ZL, l1_m, w)\n",
    "    z2 = input_impedance(z0, 'infinite', l2_m, w)\n",
    "    ztemp = z_parallel(z1, z2)\n",
    "    z3 = input_impedance(z0, ztemp, l3_m, w)\n",
    "    return z3\n",
    "\n",
    "def do_calcs_for_line(d, key):\n",
    "    d[key]['gamma_L'] = gamma_L(d[key]['Z0'], d[key]['Z_Load'])\n",
    "    d[key]['gamma_in'] = gamma_in(d[key]['Z0'], d[key]['Z_Load'], \n",
    "                                  d[key]['length_m'], \n",
    "                                  d['wavelength_m'] )\n",
    "    d[key]['Z_in'] = input_impedance(d[key]['Z0'], d[key]['Z_Load'], \n",
    "                                  d[key]['length_m'], \n",
    "                                  d['wavelength_m'] )\n",
    "\n",
    "\n",
    "def do_calcs(d):\n",
    "    do_calcs_for_line(d, 'line1')\n",
    "    do_calcs_for_line(d, 'line2')\n",
    "    d['line3']['Z_Load'] = z_parallel(d['line1']['Z_in'], d['line2']['Z_in'])\n",
    "    do_calcs_for_line(d, 'line3')\n",
    "\n",
    "\n",
    "def do_calcs_old(d):\n",
    "    for key in ['line1', 'line2']:\n",
    "        d[key]['gamma_L'] = gamma_L(d[key]['Z0'], d[key]['Z_Load'])\n",
    "        d[key]['gamma_in'] = gamma_in(d[key]['Z0'], d[key]['Z_Load'], \n",
    "                                      d[key]['length_m'], \n",
    "                                      d['wavelength_m'] )\n",
    "        d[key]['Z_in'] = input_impedance(d[key]['Z0'], d[key]['Z_Load'], \n",
    "                                      d[key]['length_m'], \n",
    "                                      d['wavelength_m'] )\n",
    "    d['line3']['Z_Load'] = z_parallel(d['line1']['Z_in'], d['line2']['Z_in'])\n",
    "    d['line3']['gamma_L'] = gamma_L(d['line3']['Z0'], d['line3']['Z_Load'])\n",
    "    d['line3']['gamma_in'] = gamma_in(d['line3']['Z0'], d['line3']['Z_Load'], \n",
    "                                  d['line3']['length_m'], \n",
    "                                  d['wavelength_m'] )\n",
    "    d['line3']['Z_in'] = input_impedance(d['line3']['Z0'], d['line3']['Z_Load'], \n",
    "                                  d['line3']['length_m'], \n",
    "                                  d['wavelength_m'] )\n",
    "    "
   ]
  },
  {
   "cell_type": "code",
   "execution_count": 32,
   "metadata": {
    "collapsed": false
   },
   "outputs": [],
   "source": [
    "test_dict = {\n",
    "    'frequency_Hz':0.1e6,\n",
    "    'wavelength_m':2000.0,\n",
    "    'line1':{\n",
    "        'Z0':50.,\n",
    "        'Z_Load':50.,\n",
    "        'length_m':1.0,\n",
    "    },\n",
    "    'line2':{\n",
    "        'Z0':50.,\n",
    "        'Z_Load':'infinite',\n",
    "        'length_m':1.0,\n",
    "    },\n",
    "    'line3':{\n",
    "        'Z0':50.,\n",
    "        'Z_Load':'infinite',\n",
    "        'length_m':l3_m,\n",
    "    },\n",
    "}"
   ]
  },
  {
   "cell_type": "code",
   "execution_count": 31,
   "metadata": {
    "collapsed": false
   },
   "outputs": [
    {
     "data": {
      "text/plain": [
       "{'frequency_Hz': 100000.0,\n",
       " 'line1': {'Z0': 50.0,\n",
       "  'Z_Load': 50.0,\n",
       "  'Z_in': (50+0j),\n",
       "  'gamma_L': 0.0,\n",
       "  'gamma_in': 0j,\n",
       "  'length_m': 1.0},\n",
       " 'line2': {'Z0': 50.0,\n",
       "  'Z_Load': 'infinite',\n",
       "  'Z_in': (3.628824671308984e-16+0.15708014945280785j),\n",
       "  'gamma_L': -1.0,\n",
       "  'gamma_in': (-0.9999802608561371+0.006283143965558951j),\n",
       "  'length_m': 1.0},\n",
       " 'line3': {'Z0': 50.0,\n",
       "  'Z_Load': (0.000493478596572117+0.15707859913897385j),\n",
       "  'Z_in': (0.0004938357938617905+1.3543559733012107j),\n",
       "  'gamma_L': (-0.999960522881141+0.0062829579352431005j),\n",
       "  'gamma_in': (-0.9985139419847631+0.054133451240338915j),\n",
       "  'length_m': 7.62},\n",
       " 'wavelength_m': 2000.0}"
      ]
     },
     "execution_count": 31,
     "metadata": {},
     "output_type": "execute_result"
    }
   ],
   "source": [
    "do_calcs(test_dict)\n",
    "test_dict"
   ]
  },
  {
   "cell_type": "code",
   "execution_count": 33,
   "metadata": {
    "collapsed": false
   },
   "outputs": [
    {
     "data": {
      "text/plain": [
       "{'frequency_Hz': 100000.0,\n",
       " 'line1': {'Z0': 50.0,\n",
       "  'Z_Load': 50.0,\n",
       "  'Z_in': (50+0j),\n",
       "  'gamma_L': 0.0,\n",
       "  'gamma_in': 0j,\n",
       "  'length_m': 1.0},\n",
       " 'line2': {'Z0': 50.0,\n",
       "  'Z_Load': 'infinite',\n",
       "  'Z_in': (3.628824671308984e-16+0.15708014945280785j),\n",
       "  'gamma_L': -1.0,\n",
       "  'gamma_in': (-0.9999802608561371+0.006283143965558951j),\n",
       "  'length_m': 1.0},\n",
       " 'line3': {'Z0': 50.0,\n",
       "  'Z_Load': (0.000493478596572117+0.15707859913897385j),\n",
       "  'Z_in': (0.0004938357938617905+1.3543559733012107j),\n",
       "  'gamma_L': (-0.999960522881141+0.0062829579352431005j),\n",
       "  'gamma_in': (-0.9985139419847631+0.054133451240338915j),\n",
       "  'length_m': 7.62},\n",
       " 'wavelength_m': 2000.0}"
      ]
     },
     "execution_count": 33,
     "metadata": {},
     "output_type": "execute_result"
    }
   ],
   "source": [
    "do_calcs_old(test_dict)\n",
    "test_dict"
   ]
  },
  {
   "cell_type": "code",
   "execution_count": null,
   "metadata": {
    "collapsed": true
   },
   "outputs": [],
   "source": []
  },
  {
   "cell_type": "code",
   "execution_count": null,
   "metadata": {
    "collapsed": true
   },
   "outputs": [],
   "source": []
  },
  {
   "cell_type": "code",
   "execution_count": null,
   "metadata": {
    "collapsed": true
   },
   "outputs": [],
   "source": []
  },
  {
   "cell_type": "code",
   "execution_count": null,
   "metadata": {
    "collapsed": true
   },
   "outputs": [],
   "source": []
  },
  {
   "cell_type": "code",
   "execution_count": 5,
   "metadata": {
    "collapsed": false
   },
   "outputs": [
    {
     "name": "stdout",
     "output_type": "stream",
     "text": [
      "Length (m):    0,       Reflection coefficient: 1.000\n",
      "Length (m):   25,       Reflection coefficient: -0.333\n",
      "Length (m):   50,       Reflection coefficient: 0.000\n",
      "Length (m):  100,       Reflection coefficient: 0.333\n",
      "Length (m): infinite,       Reflection coefficient: -1.000\n"
     ]
    }
   ],
   "source": [
    "zL_temp = [0, 25, 50, 100, 'infinite']\n",
    "z0 = 50\n",
    "\n",
    "for zL in zL_temp:\n",
    "    #print(zL)\n",
    "    print('Length (m): {:4},       Reflection coefficient: {:5.3f}'.format(zL, gamma_L(z0, zL)))"
   ]
  },
  {
   "cell_type": "code",
   "execution_count": 6,
   "metadata": {
    "collapsed": false
   },
   "outputs": [
    {
     "name": "stdout",
     "output_type": "stream",
     "text": [
      "length (m)  gamma_in.real  gamma_in.imag  z.real  z.imag\n",
      " 0.00       -1.00          0.00e+00        0.00    0.00\n",
      " 0.12       -0.00          1.00e+00       -0.00   50.00\n",
      " 0.25        1.00          1.22e-16       -50.00   816561967659768448.00\n",
      " 0.38        0.00          -1.00e+00        0.00   -50.00\n",
      " 0.50       -1.00          -2.45e-16       -0.00   -0.00\n",
      " 0.75        1.00          3.67e-16       -50.00   272187322553256160.00\n",
      " 1.00       -1.00          -4.90e-16       -0.00   -0.00\n"
     ]
    }
   ],
   "source": [
    "lengths_m = [0, 0.125, 0.25, 0.375, 0.5, 0.75, 1.0]\n",
    "wavelength_m = 1.0\n",
    "\n",
    "print('length (m)  gamma_in.real  gamma_in.imag  z.real  z.imag')\n",
    "for l_m in lengths_m:\n",
    "    temp_gamma = gamma_in(z0, 'infinite', l_m, wavelength_m)\n",
    "    temp_z = input_impedance(z0, 'infinite', l_m, wavelength_m)\n",
    "    print('{:5.2f}       {:5.2f}          {:5.2e}       {:5.2f}   {:5.2f}'.format(l_m, temp_gamma.real, temp_gamma.imag, temp_z.real, temp_z.imag))"
   ]
  },
  {
   "cell_type": "code",
   "execution_count": 7,
   "metadata": {
    "collapsed": false
   },
   "outputs": [
    {
     "data": {
      "text/plain": [
       "1j"
      ]
     },
     "execution_count": 7,
     "metadata": {},
     "output_type": "execute_result"
    }
   ],
   "source": [
    "(1 + 1j) / (1 - 1j)"
   ]
  },
  {
   "cell_type": "code",
   "execution_count": 8,
   "metadata": {
    "collapsed": false
   },
   "outputs": [
    {
     "data": {
      "text/plain": [
       "[2000.0, 40.0, 10.0]"
      ]
     },
     "execution_count": 8,
     "metadata": {},
     "output_type": "execute_result"
    }
   ],
   "source": [
    "velocity_mpers = 2e8\n",
    "frequencies = [0.1e6, 5e6, 20e6]\n",
    "wavelengths = [velocity_mpers/f for f in frequencies]\n",
    "wavelengths"
   ]
  },
  {
   "cell_type": "code",
   "execution_count": 9,
   "metadata": {
    "collapsed": false
   },
   "outputs": [
    {
     "name": "stdout",
     "output_type": "stream",
     "text": [
      "  f (Hz)    lambda (m)      z1               z2              ztemp             zfinal\n",
      "  100000.0   2000.0     (50+0j)    (3.63e-16+0.157j)    (0.000493+0.157j)        (0.000494+1.35j)\n",
      " 5000000.0     40.0     (50+0j)    (1.33e-15+7.92j)    (1.22+7.73j)        (24.7+220j)\n",
      "20000000.0     10.0     (50+0j)    (3.55e-15+36.3j)    (17.3+23.8j)        (41.1-61.7j)\n"
     ]
    }
   ],
   "source": [
    "l1_m = 1\n",
    "l2_m = 1\n",
    "l3_m = 25 * 0.3048\n",
    "\n",
    "print('  f (Hz)    lambda (m)      z1               z2              ztemp             zfinal')\n",
    "for i,w in enumerate(wavelengths):\n",
    "    z1 = input_impedance(z0, 50, l1_m, w)\n",
    "    z2 = input_impedance(z0, 'infinite', l2_m, w)\n",
    "    ztemp = z_parallel(z1, z2)\n",
    "    z3 = input_impedance(z0, ztemp, l3_m, w)\n",
    "    print('{:10.1f}   {:6.1f}     {:5.3}    {:5.3}    {:5.3}        {:5.3}'.format(frequencies[i], w, z1, z2, ztemp, z3))"
   ]
  },
  {
   "cell_type": "code",
   "execution_count": 10,
   "metadata": {
    "collapsed": true
   },
   "outputs": [],
   "source": [
    "def z_total(Z0, ZL, l1_m, l2_m, l3_m, wavelength_m):\n",
    "    z1 = input_impedance(z0, ZL, l1_m, w)\n",
    "    z2 = input_impedance(z0, 'infinite', l2_m, w)\n",
    "    ztemp = z_parallel(z1, z2)\n",
    "    z3 = input_impedance(z0, ztemp, l3_m, w)\n",
    "    return z3"
   ]
  },
  {
   "cell_type": "code",
   "execution_count": 11,
   "metadata": {
    "collapsed": false
   },
   "outputs": [
    {
     "name": "stdout",
     "output_type": "stream",
     "text": [
      "  100000.0   2000.0     (0.000494+1.35j)\n",
      " 5000000.0     40.0     (24.7+220j)\n",
      "20000000.0     10.0     (41.1-61.7j)\n"
     ]
    }
   ],
   "source": [
    "l1_m = 1\n",
    "l2_m = 1\n",
    "l3_m = 25 * 0.3048\n",
    "z_load = 50\n",
    "for i,w in enumerate(wavelengths):\n",
    "    z3 = z_total(z0, z_load, l1_m, l2_m, l3_m, w)\n",
    "    print('{:10.1f}   {:6.1f}     {:5.3}'.format(frequencies[i], w, z3))"
   ]
  },
  {
   "cell_type": "code",
   "execution_count": 22,
   "metadata": {
    "collapsed": false
   },
   "outputs": [
    {
     "name": "stdout",
     "output_type": "stream",
     "text": [
      "[2000.0, 40.0, 10.0]\n",
      "[ 2000.    40.    10.] \n",
      "\n",
      "\n",
      " [100000.0, 5000000.0, 20000000.0]\n",
      "[ 2000.    40.    10.]\n"
     ]
    },
    {
     "data": {
      "text/plain": [
       "[(0.0004938357938617905+1.3543559733012107j),\n",
       " (24.70812902795613+220.47198163151396j),\n",
       " (41.067188164057185-61.72637012249001j)]"
      ]
     },
     "execution_count": 22,
     "metadata": {},
     "output_type": "execute_result"
    }
   ],
   "source": [
    "l1_m = 1\n",
    "l2_m = 1\n",
    "l3_m = 25 * 0.3048\n",
    "z0 = 50.\n",
    "z_load = 50.\n",
    "\n",
    "n_pnts = 10\n",
    "f_start = 1e5\n",
    "f_end = 20e6\n",
    "#frequencies = np.linspace(f_start, f_end, n_pnts)\n",
    "frequencies = [0.1e6, 5e6, 20e6]\n",
    "wavelengths = [velocity_mpers/f for f in frequencies]\n",
    "print(wavelengths)\n",
    "wavelengths = wavelength_m_vec(frequencies)\n",
    "print(wavelengths, '\\n')\n",
    "z_tot = []\n",
    "for i,w in enumerate(wavelengths):\n",
    "    z_tot.append( z_total(z0, z_load, l1_m, l2_m, l3_m, w) )\n",
    "    #print('{:10.1f}   {:6.1f}     {:5.3}'.format(frequencies[i], w, z3))\n",
    "#z_tot = z_total_vec(z0, z_load, l1_m, l2_m, l3_m, wavelengths)\n",
    "\n",
    "print('\\n',frequencies)\n",
    "print(wavelengths)\n",
    "z_tot"
   ]
  },
  {
   "cell_type": "code",
   "execution_count": 43,
   "metadata": {
    "collapsed": false
   },
   "outputs": [
    {
     "data": {
      "text/plain": [
       "<matplotlib.legend.Legend at 0x112fa9748>"
      ]
     },
     "execution_count": 43,
     "metadata": {},
     "output_type": "execute_result"
    },
    {
     "data": {
      "image/png": "[encoded data removed]",
      "text/plain": [
       "<matplotlib.figure.Figure at 0x112d00358>"
      ]
     },
     "metadata": {},
     "output_type": "display_data"
    }
   ],
   "source": [
    "l1_m = 1\n",
    "l2_m = 1\n",
    "l3_m = 25 * 0.3048\n",
    "z0 = 50.\n",
    "z_load = 50.\n",
    "\n",
    "n_pnts = 1000\n",
    "f_start = 1e5\n",
    "f_end = 20e6\n",
    "frequencies = np.linspace(f_start, f_end, n_pnts)\n",
    "wavelengths = wavelength_m_vec(frequencies)\n",
    "z_tot_open = []\n",
    "z_tot_50 = []\n",
    "z_tot_25 = []\n",
    "for i,w in enumerate(wavelengths):\n",
    "    z_tot_open.append( z_total(z0, 'infinite', l1_m, l2_m, l3_m, w) )\n",
    "    z_tot_50.append( z_total(z0, 50., l1_m, l2_m, l3_m, w) )\n",
    "    z_tot_25.append( z_total(z0, 25., l1_m, l2_m, l3_m, w) )\n",
    "z_tot_open = np.array(z_tot_open)\n",
    "z_tot_50 = np.array(z_tot_50)\n",
    "z_tot_25 = np.array(z_tot_25)\n",
    "\n",
    "fig, ax = plt.subplots()\n",
    "ax.plot(frequencies, z_tot_open.imag, label='Open circuit')\n",
    "ax.plot(frequencies, z_tot_50.imag, label='50 Ohm')\n",
    "ax.plot(frequencies, z_tot_25.imag, label='25 Ohm')\n",
    "ax.hlines(0, xmin=min(frequencies), xmax=max(frequencies))\n",
    "ax.set_ylim(-200,200)\n",
    "ax.legend(loc='upper center')\n"
   ]
  },
  {
   "cell_type": "code",
   "execution_count": 44,
   "metadata": {
    "collapsed": true
   },
   "outputs": [],
   "source": [
    "frequencies = [0.1e6, 5e6, 20e6]\n",
    "wavelengths = wavelength_m_vec(frequencies)\n",
    "z_tot_open = []\n",
    "z_tot_50 = []\n",
    "z_tot_25 = []\n",
    "for i,w in enumerate(wavelengths):\n",
    "    z_tot_open.append( z_total(z0, 'infinite', l1_m, l2_m, l3_m, w) )\n",
    "    z_tot_50.append( z_total(z0, 50., l1_m, l2_m, l3_m, w) )\n",
    "    z_tot_25.append( z_total(z0, 25., l1_m, l2_m, l3_m, w) )\n",
    "z_tot_open = np.array(z_tot_open)\n",
    "z_tot_50 = np.array(z_tot_50)\n",
    "z_tot_25 = np.array(z_tot_25)"
   ]
  },
  {
   "cell_type": "code",
   "execution_count": 45,
   "metadata": {
    "collapsed": false
   },
   "outputs": [
    {
     "data": {
      "text/plain": [
       "array([  9.87554619e-04  +1.35434667j,   3.31323371e+01+202.07764151j,\n",
       "         3.67472148e+01 -88.85366673j])"
      ]
     },
     "execution_count": 45,
     "metadata": {},
     "output_type": "execute_result"
    }
   ],
   "source": [
    "z_tot_25"
   ]
  },
  {
   "cell_type": "code",
   "execution_count": 46,
   "metadata": {
    "collapsed": false
   },
   "outputs": [
    {
     "data": {
      "text/plain": [
       "array([  4.93835794e-04  +1.35435597j,   2.47081290e+01+220.47198163j,\n",
       "         4.10671882e+01 -61.72637012j])"
      ]
     },
     "execution_count": 46,
     "metadata": {},
     "output_type": "execute_result"
    }
   ],
   "source": [
    "z_tot_50"
   ]
  },
  {
   "cell_type": "code",
   "execution_count": 47,
   "metadata": {
    "collapsed": false
   },
   "outputs": [
    {
     "data": {
      "text/plain": [
       "array([ -4.64905892e-16  +1.27576356j,  -2.92479475e-14+164.65130682j,\n",
       "         0.00000000e+00-110.81698321j])"
      ]
     },
     "execution_count": 47,
     "metadata": {},
     "output_type": "execute_result"
    }
   ],
   "source": [
    "z_tot_open"
   ]
  },
  {
   "cell_type": "code",
   "execution_count": null,
   "metadata": {
    "collapsed": true
   },
   "outputs": [],
   "source": []
  }
 ],
 "metadata": {
  "anaconda-cloud": {},
  "kernelspec": {
   "display_name": "Python [conda root]",
   "language": "python",
   "name": "conda-root-py"
  },
  "language_info": {
   "codemirror_mode": {
    "name": "ipython",
    "version": 3
   },
   "file_extension": ".py",
   "mimetype": "text/x-python",
   "name": "python",
   "nbconvert_exporter": "python",
   "pygments_lexer": "ipython3",
   "version": "3.5.2"
  },
  "latex_envs": {
   "LaTeX_envs_menu_present": true,
   "bibliofile": "biblio.bib",
   "cite_by": "apalike",
   "current_citInitial": 1,
   "eqLabelWithNumbers": true,
   "eqNumInitial": 1,
   "labels_anchors": false,
   "latex_user_defs": false,
   "report_style_numbering": false,
   "user_envs_cfg": false
  },
  "toc": {
   "colors": {
    "hover_highlight": "#DAA520",
    "running_highlight": "#FF0000",
    "selected_highlight": "#FFD700"
   },
   "moveMenuLeft": true,
   "nav_menu": {
    "height": "31px",
    "width": "252px"
   },
   "navigate_menu": true,
   "number_sections": true,
   "sideBar": true,
   "threshold": 4,
   "toc_cell": false,
   "toc_section_display": "block",
   "toc_window_display": false
  }
 },
 "nbformat": 4,
 "nbformat_minor": 1
}
