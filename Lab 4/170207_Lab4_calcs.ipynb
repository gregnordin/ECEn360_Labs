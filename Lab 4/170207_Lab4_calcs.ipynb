{
 "cells": [
  {
   "cell_type": "code",
   "execution_count": 1,
   "metadata": {
    "collapsed": true
   },
   "outputs": [],
   "source": [
    "import numpy as np\n",
    "import matplotlib.pyplot as plt\n",
    "%matplotlib inline"
   ]
  },
  {
   "cell_type": "markdown",
   "metadata": {},
   "source": [
    "\\begin{align}\n",
    "  \\tilde{V}(z) &= V^+_0\\exp(-j\\beta z) + V^-_0\\exp(j\\beta z)\n",
    "\\end{align}\n",
    "\n",
    "with $\\beta = 2\\pi/\\lambda$ and $\\lambda = u/f$ where $u$ is the propagation velocity ($\\sim2/3 c$) and $f$ is the frequency."
   ]
  },
  {
   "cell_type": "code",
   "execution_count": 70,
   "metadata": {
    "collapsed": false
   },
   "outputs": [
    {
     "name": "stdout",
     "output_type": "stream",
     "text": [
      "Freq (Hz)  Lambda (m)| l (m)     Beta*l/pi   Beta*l  |   l (m)    Beta*l/pi   Beta*l\n",
      "-----------------------------------------------------------------------------------\n",
      "1.00E+05     2000.0  |   0.305     0.000      0.001  |   7.620     0.008      0.024\n",
      "5.00E+05      400.0  |   0.305     0.002      0.005  |   7.620     0.038      0.120\n",
      "1.00E+06      200.0  |   0.305     0.003      0.010  |   7.620     0.076      0.239\n",
      "1.50E+06      133.3  |   0.305     0.005      0.014  |   7.620     0.114      0.359\n",
      "2.00E+06      100.0  |   0.305     0.006      0.019  |   7.620     0.152      0.479\n",
      "2.50E+06       80.0  |   0.305     0.008      0.024  |   7.620     0.191      0.598\n",
      "3.00E+06       66.7  |   0.305     0.009      0.029  |   7.620     0.229      0.718\n",
      "3.50E+06       57.1  |   0.305     0.011      0.034  |   7.620     0.267      0.838\n",
      "4.00E+06       50.0  |   0.305     0.012      0.038  |   7.620     0.305      0.958\n",
      "4.50E+06       44.4  |   0.305     0.014      0.043  |   7.620     0.343      1.077\n",
      "5.00E+06       40.0  |   0.305     0.015      0.048  |   7.620     0.381      1.197\n",
      "5.50E+06       36.4  |   0.305     0.017      0.053  |   7.620     0.419      1.317\n",
      "6.00E+06       33.3  |   0.305     0.018      0.057  |   7.620     0.457      1.436\n",
      "6.50E+06       30.8  |   0.305     0.020      0.062  |   7.620     0.495      1.556\n",
      "7.00E+06       28.6  |   0.305     0.021      0.067  |   7.620     0.533      1.676\n",
      "7.50E+06       26.7  |   0.305     0.023      0.072  |   7.620     0.572      1.795\n",
      "8.00E+06       25.0  |   0.305     0.024      0.077  |   7.620     0.610      1.915\n",
      "8.50E+06       23.5  |   0.305     0.026      0.081  |   7.620     0.648      2.035\n",
      "9.00E+06       22.2  |   0.305     0.027      0.086  |   7.620     0.686      2.155\n",
      "9.50E+06       21.1  |   0.305     0.029      0.091  |   7.620     0.724      2.274\n",
      "1.00E+07       20.0  |   0.305     0.030      0.096  |   7.620     0.762      2.394\n",
      "1.05E+07       19.0  |   0.305     0.032      0.101  |   7.620     0.800      2.514\n",
      "1.10E+07       18.2  |   0.305     0.034      0.105  |   7.620     0.838      2.633\n",
      "1.15E+07       17.4  |   0.305     0.035      0.110  |   7.620     0.876      2.753\n",
      "1.20E+07       16.7  |   0.305     0.037      0.115  |   7.620     0.914      2.873\n",
      "1.25E+07       16.0  |   0.305     0.038      0.120  |   7.620     0.953      2.992\n",
      "1.30E+07       15.4  |   0.305     0.040      0.124  |   7.620     0.991      3.112\n",
      "1.35E+07       14.8  |   0.305     0.041      0.129  |   7.620     1.029      3.232\n",
      "1.40E+07       14.3  |   0.305     0.043      0.134  |   7.620     1.067      3.351\n",
      "1.45E+07       13.8  |   0.305     0.044      0.139  |   7.620     1.105      3.471\n",
      "1.50E+07       13.3  |   0.305     0.046      0.144  |   7.620     1.143      3.591\n",
      "1.55E+07       12.9  |   0.305     0.047      0.148  |   7.620     1.181      3.711\n",
      "1.60E+07       12.5  |   0.305     0.049      0.153  |   7.620     1.219      3.830\n",
      "1.65E+07       12.1  |   0.305     0.050      0.158  |   7.620     1.257      3.950\n",
      "1.70E+07       11.8  |   0.305     0.052      0.163  |   7.620     1.295      4.070\n",
      "1.75E+07       11.4  |   0.305     0.053      0.168  |   7.620     1.333      4.189\n",
      "1.80E+07       11.1  |   0.305     0.055      0.172  |   7.620     1.372      4.309\n",
      "1.85E+07       10.8  |   0.305     0.056      0.177  |   7.620     1.410      4.429\n",
      "1.90E+07       10.5  |   0.305     0.058      0.182  |   7.620     1.448      4.548\n",
      "1.95E+07       10.3  |   0.305     0.059      0.187  |   7.620     1.486      4.668\n",
      "2.00E+07       10.0  |   0.305     0.061      0.192  |   7.620     1.524      4.788\n"
     ]
    }
   ],
   "source": [
    "m_div_ft = 0.3048\n",
    "\n",
    "def beta(f):\n",
    "    return 2*np.pi / wavelength(f)\n",
    "\n",
    "def wavelength(f):\n",
    "    return 2.e8 / f\n",
    "\n",
    "l_ft = 1.0\n",
    "l_m = l_ft * m_div_ft\n",
    "l_25ft = 25.0\n",
    "l_25ft_m = l_25ft * m_div_ft\n",
    "\n",
    "temp1 = np.array([100e3, 500e3])\n",
    "temp2 = np.arange(1e6, 20.5e6, 0.5e6)\n",
    "frequencies = np.concatenate( (temp1, temp2), axis=0 )\n",
    "\n",
    "print(\"Freq (Hz)  Lambda (m)| l (m)     Beta*l/pi   Beta*l  |   l (m)    Beta*l/pi   Beta*l\")\n",
    "print(\"-----------------------------------------------------------------------------------\")\n",
    "for f in frequencies:\n",
    "    print(\"{:.2E}     {:6.1f}  |   {:.3f}     {:5.3f}      {:5.3f}  |   {:.3f}     {:5.3f}      {:5.3f}\".format(\n",
    "            f, wavelength(f), l_m, l_m*beta(f)/(np.pi), l_m*beta(f), l_25ft_m, l_25ft_m*beta(f)/(np.pi), l_25ft_m*beta(f)))"
   ]
  },
  {
   "cell_type": "code",
   "execution_count": null,
   "metadata": {
    "collapsed": true
   },
   "outputs": [],
   "source": []
  }
 ],
 "metadata": {
  "anaconda-cloud": {},
  "kernelspec": {
   "display_name": "Python [conda root]",
   "language": "python",
   "name": "conda-root-py"
  },
  "language_info": {
   "codemirror_mode": {
    "name": "ipython",
    "version": 3
   },
   "file_extension": ".py",
   "mimetype": "text/x-python",
   "name": "python",
   "nbconvert_exporter": "python",
   "pygments_lexer": "ipython3",
   "version": "3.5.2"
  },
  "latex_envs": {
   "LaTeX_envs_menu_present": true,
   "bibliofile": "biblio.bib",
   "cite_by": "apalike",
   "current_citInitial": 1,
   "eqLabelWithNumbers": true,
   "eqNumInitial": 1,
   "labels_anchors": false,
   "latex_user_defs": false,
   "report_style_numbering": false,
   "user_envs_cfg": false
  },
  "toc": {
   "colors": {
    "hover_highlight": "#DAA520",
    "running_highlight": "#FF0000",
    "selected_highlight": "#FFD700"
   },
   "moveMenuLeft": true,
   "nav_menu": {
    "height": "12px",
    "width": "252px"
   },
   "navigate_menu": true,
   "number_sections": true,
   "sideBar": true,
   "threshold": 4,
   "toc_cell": false,
   "toc_section_display": "block",
   "toc_window_display": false
  }
 },
 "nbformat": 4,
 "nbformat_minor": 1
}
