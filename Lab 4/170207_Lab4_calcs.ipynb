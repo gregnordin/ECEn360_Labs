{
 "cells": [
  {
   "cell_type": "code",
   "execution_count": 1,
   "metadata": {
    "collapsed": true
   },
   "outputs": [],
   "source": [
    "import numpy as np\n",
    "import matplotlib.pyplot as plt\n",
    "%matplotlib inline"
   ]
  },
  {
   "cell_type": "markdown",
   "metadata": {},
   "source": [
    "\\begin{align}\n",
    "  \\tilde{V}(z) &= V^+_0\\exp(-j\\beta z) + V^-_0\\exp(j\\beta z)\n",
    "\\end{align}\n",
    "\n",
    "with $\\beta = 2\\pi/\\lambda$ and $\\lambda = u/f$ where $u$ is the propagation velocity ($\\sim2/3 c$) and $f$ is the frequency."
   ]
  },
  {
   "cell_type": "code",
   "execution_count": 26,
   "metadata": {
    "collapsed": false
   },
   "outputs": [
    {
     "name": "stdout",
     "output_type": "stream",
     "text": [
      "1.0E+05 Hz 0.0032808398950131233 0.010307062511777536\n",
      "5.0E+05 Hz 0.016404199475065617 0.05153531255888768\n",
      "1.0E+06 Hz 0.03280839895013123 0.10307062511777536\n",
      "1.5E+06 Hz 0.049212598425196846 0.15460593767666303\n",
      "2.0E+06 Hz 0.06561679790026247 0.20614125023555072\n",
      "2.5E+06 Hz 0.08202099737532809 0.2576765627944384\n",
      "3.0E+06 Hz 0.09842519685039369 0.30921187535332606\n",
      "3.5E+06 Hz 0.1148293963254593 0.3607471879122137\n",
      "4.0E+06 Hz 0.13123359580052493 0.41228250047110143\n",
      "4.5E+06 Hz 0.14763779527559054 0.4638178130299891\n",
      "5.0E+06 Hz 0.16404199475065617 0.5153531255888768\n",
      "5.5E+06 Hz 0.18044619422572178 0.5668884381477645\n",
      "6.0E+06 Hz 0.19685039370078738 0.6184237507066521\n",
      "6.5E+06 Hz 0.213254593175853 0.6699590632655398\n",
      "7.0E+06 Hz 0.2296587926509186 0.7214943758244274\n",
      "7.5E+06 Hz 0.24606299212598423 0.7730296883833152\n",
      "8.0E+06 Hz 0.26246719160104987 0.8245650009422029\n",
      "8.5E+06 Hz 0.27887139107611547 0.8761003135010905\n",
      "9.0E+06 Hz 0.2952755905511811 0.9276356260599782\n",
      "9.5E+06 Hz 0.3116797900262467 0.9791709386188658\n",
      "1.0E+07 Hz 0.32808398950131235 1.0307062511777536\n",
      "1.0E+07 Hz 0.34448818897637795 1.0822415637366414\n",
      "1.1E+07 Hz 0.36089238845144356 1.133776876295529\n",
      "1.2E+07 Hz 0.37729658792650916 1.1853121888544167\n",
      "1.2E+07 Hz 0.39370078740157477 1.2368475014133042\n",
      "1.2E+07 Hz 0.41010498687664043 1.288382813972192\n",
      "1.3E+07 Hz 0.426509186351706 1.3399181265310796\n",
      "1.4E+07 Hz 0.44291338582677164 1.3914534390899673\n",
      "1.4E+07 Hz 0.4593175853018372 1.4429887516488549\n",
      "1.4E+07 Hz 0.47572178477690286 1.4945240642077426\n",
      "1.5E+07 Hz 0.49212598425196846 1.5460593767666304\n",
      "1.6E+07 Hz 0.5085301837270341 1.597594689325518\n",
      "1.6E+07 Hz 0.5249343832020997 1.6491300018844057\n",
      "1.6E+07 Hz 0.5413385826771653 1.7006653144432933\n",
      "1.7E+07 Hz 0.5577427821522309 1.752200627002181\n",
      "1.8E+07 Hz 0.5741469816272965 1.8037359395610686\n",
      "1.8E+07 Hz 0.5905511811023622 1.8552712521199564\n",
      "1.8E+07 Hz 0.6069553805774278 1.9068065646788441\n",
      "1.9E+07 Hz 0.6233595800524934 1.9583418772377317\n",
      "2.0E+07 Hz 0.6397637795275589 2.0098771897966192\n",
      "2.0E+07 Hz 0.6561679790026247 2.061412502355507\n"
     ]
    }
   ],
   "source": [
    "ft_in_m = 0.3048\n",
    "\n",
    "def beta(f):\n",
    "    return 2*np.pi / wavelength(f)\n",
    "\n",
    "def wavelength(f):\n",
    "    return 2.e8 / f\n",
    "\n",
    "l_ft = 1.0\n",
    "l_m = l_ft/ft_in_m\n",
    "\n",
    "temp1 = np.array([100e3, 500e3])\n",
    "temp2 = np.arange(1e6, 20.5e6, 0.5e6)\n",
    "frequencies = np.concatenate( (temp1, temp2), axis=0 )\n",
    "\n",
    "for f in frequencies:\n",
    "    print(\"{:.1E} Hz {} {}\".format(f, l_m*beta(f)/(np.pi), l_m*beta(f)))"
   ]
  },
  {
   "cell_type": "code",
   "execution_count": 11,
   "metadata": {
    "collapsed": false
   },
   "outputs": [
    {
     "name": "stdout",
     "output_type": "stream",
     "text": [
      "[  1000000.   1500000.   2000000.   2500000.   3000000.   3500000.\n",
      "   4000000.   4500000.   5000000.   5500000.   6000000.   6500000.\n",
      "   7000000.   7500000.   8000000.   8500000.   9000000.   9500000.\n",
      "  10000000.  10500000.  11000000.  11500000.  12000000.  12500000.\n",
      "  13000000.  13500000.  14000000.  14500000.  15000000.  15500000.\n",
      "  16000000.  16500000.  17000000.  17500000.  18000000.  18500000.\n",
      "  19000000.  19500000.  20000000.]\n"
     ]
    }
   ],
   "source": [
    "print( np.arange(1e6, 20.5e6, 0.5e6) )"
   ]
  },
  {
   "cell_type": "code",
   "execution_count": null,
   "metadata": {
    "collapsed": true
   },
   "outputs": [],
   "source": []
  }
 ],
 "metadata": {
  "anaconda-cloud": {},
  "kernelspec": {
   "display_name": "Python [conda root]",
   "language": "python",
   "name": "conda-root-py"
  },
  "language_info": {
   "codemirror_mode": {
    "name": "ipython",
    "version": 3
   },
   "file_extension": ".py",
   "mimetype": "text/x-python",
   "name": "python",
   "nbconvert_exporter": "python",
   "pygments_lexer": "ipython3",
   "version": "3.5.2"
  },
  "latex_envs": {
   "LaTeX_envs_menu_present": true,
   "bibliofile": "biblio.bib",
   "cite_by": "apalike",
   "current_citInitial": 1,
   "eqLabelWithNumbers": true,
   "eqNumInitial": 1,
   "labels_anchors": false,
   "latex_user_defs": false,
   "report_style_numbering": false,
   "user_envs_cfg": false
  },
  "toc": {
   "colors": {
    "hover_highlight": "#DAA520",
    "running_highlight": "#FF0000",
    "selected_highlight": "#FFD700"
   },
   "moveMenuLeft": true,
   "nav_menu": {
    "height": "12px",
    "width": "252px"
   },
   "navigate_menu": true,
   "number_sections": true,
   "sideBar": true,
   "threshold": 4,
   "toc_cell": false,
   "toc_section_display": "block",
   "toc_window_display": false
  }
 },
 "nbformat": 4,
 "nbformat_minor": 1
}
