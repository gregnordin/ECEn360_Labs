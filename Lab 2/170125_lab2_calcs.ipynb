{
 "cells": [
  {
   "cell_type": "markdown",
   "metadata": {},
   "source": [
    "# ECEn 360 Lab 2 - LTspice Simulations of a Transmission Line\n",
    "\n",
    "## Part III\n",
    "\n",
    "### Transmission line diagram\n",
    "\n",
    "Create a simple SVG drawing and display it with ipython's display machinery."
   ]
  },
  {
   "cell_type": "code",
   "execution_count": 1,
   "metadata": {
    "collapsed": false
   },
   "outputs": [
    {
     "data": {
      "text/html": [
       "\n",
       "<svg height=\"100\" width=\"500\">\n",
       "\n",
       "<defs>\n",
       "<marker id=\"arrowhead\" markerWidth=\"10\" markerHeight=\"7\" \n",
       "refX=\"0\" refY=\"2\" orient=\"auto\">\n",
       "  <polygon points=\"0 0, 10 2, 0 4\" />\n",
       "</marker>\n",
       "</defs>\n",
       "<line x1=\"30\" y1=\"50\" x2=\"70\" y2=\"50\" stroke=\"#000\" stroke-width=\"2\" marker-end=\"url(#arrowhead)\" />\n",
       "\n",
       "<g fill = \"black\">\n",
       "    <text x = \"10\" y = \"55\" font-size = \"14\">\n",
       "        <tspan>Z<tspan baseline-shift = \"sub\">in</tspan></tspan>\n",
       "    </text>\n",
       "    <text x = \"200\" y = \"55\" font-size = \"14\">\n",
       "        <tspan>Z<tspan baseline-shift = \"sub\">0</tspan></tspan>\n",
       "    </text>\n",
       "</g>\n",
       "\n",
       "<line x1=\"70\" y1=\"25\" x2=\"370\" y2=\"25\" stroke=\"#000\" stroke-width=\"2\" />\n",
       "<line x1=\"70\" y1=\"75\" x2=\"370\" y2=\"75\" stroke=\"#000\" stroke-width=\"2\" />\n",
       "\n",
       "<circle cx=\"70\" cy=\"25\" r=\"4\" stroke=\"black\" stroke-width=\"2\" fill=\"white\" />\n",
       "<circle cx=\"70\" cy=\"75\" r=\"4\" stroke=\"black\" stroke-width=\"2\" fill=\"white\" />\n",
       "<circle cx=\"370\" cy=\"25\" r=\"4\" stroke=\"black\" stroke-width=\"2\" fill=\"white\" />\n",
       "<circle cx=\"370\" cy=\"75\" r=\"4\" stroke=\"black\" stroke-width=\"2\" fill=\"white\" />\n",
       "\n",
       "</svg\n"
      ],
      "text/plain": [
       "<IPython.core.display.HTML object>"
      ]
     },
     "metadata": {},
     "output_type": "display_data"
    }
   ],
   "source": [
    "from IPython.display import HTML, display\n",
    "\n",
    "tline_drawing = '''\n",
    "<svg height=\"100\" width=\"500\">\n",
    "\n",
    "<defs>\n",
    "<marker id=\"arrowhead\" markerWidth=\"10\" markerHeight=\"7\" \n",
    "refX=\"0\" refY=\"2\" orient=\"auto\">\n",
    "  <polygon points=\"0 0, 10 2, 0 4\" />\n",
    "</marker>\n",
    "</defs>\n",
    "<line x1=\"30\" y1=\"50\" x2=\"70\" y2=\"50\" stroke=\"#000\" stroke-width=\"2\" marker-end=\"url(#arrowhead)\" />\n",
    "\n",
    "<g fill = \"black\">\n",
    "    <text x = \"10\" y = \"55\" font-size = \"14\">\n",
    "        <tspan>Z<tspan baseline-shift = \"sub\">in</tspan></tspan>\n",
    "    </text>\n",
    "    <text x = \"200\" y = \"55\" font-size = \"14\">\n",
    "        <tspan>Z<tspan baseline-shift = \"sub\">0</tspan></tspan>\n",
    "    </text>\n",
    "</g>\n",
    "\n",
    "<line x1=\"70\" y1=\"25\" x2=\"370\" y2=\"25\" stroke=\"#000\" stroke-width=\"2\" />\n",
    "<line x1=\"70\" y1=\"75\" x2=\"370\" y2=\"75\" stroke=\"#000\" stroke-width=\"2\" />\n",
    "\n",
    "<circle cx=\"70\" cy=\"25\" r=\"4\" stroke=\"black\" stroke-width=\"2\" fill=\"white\" />\n",
    "<circle cx=\"70\" cy=\"75\" r=\"4\" stroke=\"black\" stroke-width=\"2\" fill=\"white\" />\n",
    "<circle cx=\"370\" cy=\"25\" r=\"4\" stroke=\"black\" stroke-width=\"2\" fill=\"white\" />\n",
    "<circle cx=\"370\" cy=\"75\" r=\"4\" stroke=\"black\" stroke-width=\"2\" fill=\"white\" />\n",
    "\n",
    "</svg\n",
    "'''\n",
    "display(HTML(tline_drawing))"
   ]
  },
  {
   "cell_type": "markdown",
   "metadata": {},
   "source": [
    "The characteristic impedance, $Z_0$, phase constant, $\\beta$, and phase velocity, $u_p$, are\n",
    "\n",
    "\\begin{align}\n",
    "    Z_0 &= \\sqrt{\\frac{L}{C}} \\\\\n",
    "    \\beta &= \\omega \\sqrt{L C} \\\\\n",
    "    u_p &= \\frac{1}{\\sqrt{L C}}\n",
    "\\end{align}\n",
    "\n",
    "where\n",
    "\n",
    "$$\\omega = 2 \\pi f $$\n",
    "\n",
    "To determine the overall capacitance we need to calculate the input impedance, $Z_{in}$ of the transmission line. The input impedance is\n",
    "\n",
    "$$Z_{in} = Z_0 \\frac{1 + \\Gamma_{in}}{1 - \\Gamma_{in}} $$\n",
    "\n",
    "where\n",
    "\n",
    "\\begin{align}\n",
    "    \\Gamma_{in} &= \\Gamma_L \\exp(-j2\\beta l)\n",
    "\\end{align}\n",
    "\n",
    "since the generalized reflection coefficient is\n",
    "\n",
    "\\begin{align}\n",
    "\\Gamma(z) &= \\Gamma_L \\exp(j2\\beta z)\n",
    "\\end{align}\n",
    "\n",
    "and $\\Gamma_{in} = \\Gamma(z = -l)$. The load reflection coefficient is \n",
    "\n",
    "$$\\Gamma_L = \\frac{Z_L - Z_0}{Z_L + Z_0}$$\n",
    "\n",
    "Since the load is an open circuit, $\\Gamma_L = 1$. \n",
    "\n",
    "Note that $Z_{in}$ is in general complex so we can write it as\n",
    "\n",
    "$$Z_{in} = R + jX$$\n",
    "\n",
    "where the real part, $R$, is the resistive component of the impedance, and the imaginary part, $X$, is the reactance. Recall that the impedance for a capacitor is $Z_C = -j \\frac{1}{\\omega C} = jX$ where $X \\lt 0$, while the impedance for an inductor is $Z_L = j \\omega L = jX$ where $X \\gt 0$. So, if the imaginary part of $Z_{in}$ is less than 0, it is capacitive, and if it is greater than 0 it is inductive.\n",
    "\n",
    "Suppose when we calculate the input impedance it has no resistive component such that $Z_{in} = jX$, and that $X \\lt 0$. The capacitance of the transmission line can be calculated as\n",
    "\n",
    "$$C = \\frac{-1}{\\omega X}$$\n",
    "\n",
    "### Now let's do the calculations"
   ]
  },
  {
   "cell_type": "code",
   "execution_count": 2,
   "metadata": {
    "collapsed": false
   },
   "outputs": [],
   "source": [
    "import math\n",
    "from cmath import exp\n",
    "import numpy as np"
   ]
  },
  {
   "cell_type": "code",
   "execution_count": 3,
   "metadata": {
    "collapsed": false
   },
   "outputs": [
    {
     "data": {
      "text/plain": [
       "(6.123233995736766e-17+1j)"
      ]
     },
     "execution_count": 3,
     "metadata": {},
     "output_type": "execute_result"
    }
   ],
   "source": [
    "# Make sure we get what we expect for exp(jPi/2)\n",
    "exp((math.pi/2)*1j)"
   ]
  },
  {
   "cell_type": "code",
   "execution_count": 4,
   "metadata": {
    "collapsed": false
   },
   "outputs": [
    {
     "name": "stdout",
     "output_type": "stream",
     "text": [
      "\n",
      "Z_0: 50.2625 Ohms\n",
      "u_p: 2.0943e+08 m/s\n",
      "\n",
      " f (Hz)   beta (radians/m)    gamma_in         Z_in (Ohms)     Capacitance (F)\n",
      "------------------------------------------------------------------------------\n",
      "5.00e+05      0.0150        0.9553-0.2955j   0.0000-332.5460j    9.5719e-10\n",
      "1.00e+06      0.0300        0.8253-0.5647j   0.0000-162.4745j    9.7957e-10\n",
      "2.00e+06      0.0600        0.3623-0.9321j   0.0000-73.4628j    1.0832e-09\n",
      "5.00e+06      0.1500        -0.9900-0.1409j   0.0000-3.5598j    8.9418e-09\n",
      "1.00e+07      0.3000        0.9603+0.2791j   -0.0000+353.0584j   inductive\n",
      "2.00e+07      0.6000        0.8442+0.5360j   -0.0000+172.9515j   inductive\n"
     ]
    }
   ],
   "source": [
    "# Function definitions\n",
    "def beta(f, L, C):\n",
    "    return 2 * math.pi * f * math.sqrt(L * C)\n",
    "\n",
    "def gamma_in(f, L, C, l):\n",
    "    b = beta(f, L, C)\n",
    "    return exp(-2j*b*l)\n",
    "\n",
    "def input_impedance(z0, gamma_in):\n",
    "    return z0*(1 + gamma_in)/(1 - gamma_in)\n",
    "\n",
    "# Parameters\n",
    "L = 240e-9\n",
    "C = 95e-12\n",
    "frequencies = [0.5e6, 1e6, 2e6, 5e6, 10e6, 20e6]\n",
    "l = 10.\n",
    "\n",
    "# Calculations and display\n",
    "z0 = math.sqrt(L/C)\n",
    "up = 1/math.sqrt(L*C)\n",
    "print('\\nZ_0: {:6.4f} Ohms'.format(z0))\n",
    "print('u_p: {:6.4e} m/s\\n'.format(up))\n",
    "print(' f (Hz)   beta (radians/m)    gamma_in         Z_in (Ohms)     Capacitance (F)')\n",
    "print('------------------------------------------------------------------------------')\n",
    "for f in frequencies:\n",
    "    b = beta(f, L, C)\n",
    "    g_in = gamma_in(f, L, C, l)\n",
    "    z_in = input_impedance(z0, g_in)\n",
    "    if np.imag(z_in) < 0:\n",
    "        capacitance = -1/(2 * math.pi *f * np.imag(z_in))\n",
    "        print('{:4.2e}      {:6.4f}        {:6.4f}   {:6.4f}    {:6.4e}'.format(f, b, g_in, z_in, capacitance))\n",
    "    else:\n",
    "        print('{:4.2e}      {:6.4f}        {:6.4f}   {:6.4f}   inductive'.format(f, b, g_in, z_in))"
   ]
  },
  {
   "cell_type": "code",
   "execution_count": null,
   "metadata": {
    "collapsed": true
   },
   "outputs": [],
   "source": []
  }
 ],
 "metadata": {
  "anaconda-cloud": {},
  "kernelspec": {
   "display_name": "Python [Root]",
   "language": "python",
   "name": "Python [Root]"
  },
  "language_info": {
   "codemirror_mode": {
    "name": "ipython",
    "version": 3
   },
   "file_extension": ".py",
   "mimetype": "text/x-python",
   "name": "python",
   "nbconvert_exporter": "python",
   "pygments_lexer": "ipython3",
   "version": "3.5.2"
  }
 },
 "nbformat": 4,
 "nbformat_minor": 0
}
