{
 "cells": [
  {
   "cell_type": "markdown",
   "metadata": {},
   "source": [
    "# Calculate Z_in for the following circuit\n",
    "\n",
    "<img src=\"Circuit_Lab5.png\">\n",
    "\n",
    "## Imports and function definitions"
   ]
  },
  {
   "cell_type": "code",
   "execution_count": 1,
   "metadata": {
    "collapsed": true
   },
   "outputs": [],
   "source": [
    "import cmath\n",
    "import matplotlib.pyplot as plt\n",
    "%matplotlib inline\n",
    "import numpy as np\n",
    "import pprint\n",
    "pp = pprint.PrettyPrinter(indent=1)"
   ]
  },
  {
   "cell_type": "code",
   "execution_count": 2,
   "metadata": {
    "collapsed": true
   },
   "outputs": [],
   "source": [
    "l3_ft = 25.\n",
    "ft_to_m = 0.3048\n",
    "l3_m = l3_ft * ft_to_m"
   ]
  },
  {
   "cell_type": "code",
   "execution_count": 3,
   "metadata": {
    "collapsed": false
   },
   "outputs": [],
   "source": [
    "def wavelength_m(freq_Hz):\n",
    "    return 2e8/freq_Hz\n",
    "    \n",
    "wavelength_m_vec = np.vectorize(wavelength_m)\n",
    "\n",
    "def gamma_L(Z0, ZL):\n",
    "    if ZL == 0:\n",
    "        return 1.0\n",
    "    elif ZL == 'infinite' or ZL == 'open':\n",
    "        return -1.0\n",
    "    else:\n",
    "        return (ZL - Z0)/(ZL + Z0)\n",
    "\n",
    "def gamma_in(Z0, ZL, l_m, wavelength_m):\n",
    "    gamma_load = gamma_L(Z0, ZL)\n",
    "    beta = 2*cmath.pi/wavelength_m\n",
    "    temp = gamma_load * cmath.exp(-1j * 2 * beta * l_m)\n",
    "    return temp\n",
    "\n",
    "def input_impedance(Z0, ZL, l_m, wavelength_m):\n",
    "    temp = gamma_in(Z0, ZL, l_m, wavelength_m)\n",
    "    return Z0 * (1 + temp) / (1 - temp)\n",
    "    \n",
    "def z_parallel(Z1, Z2):\n",
    "    return Z1*Z2 / (Z1 + Z2)\n",
    "\n",
    "def do_calcs_for_line(d, key):\n",
    "    d[key]['gamma_L'] = gamma_L(d[key]['Z0'], d[key]['Z_Load'])\n",
    "    d[key]['gamma_in'] = gamma_in(d[key]['Z0'], d[key]['Z_Load'], \n",
    "                                  d[key]['length_m'], \n",
    "                                  d['wavelength_m'] )\n",
    "    d[key]['Z_in'] = input_impedance(d[key]['Z0'], d[key]['Z_Load'], \n",
    "                                  d[key]['length_m'], \n",
    "                                  d['wavelength_m'] )\n",
    "\n",
    "def do_calcs(d):\n",
    "    do_calcs_for_line(d, 'line1')\n",
    "    do_calcs_for_line(d, 'line2')\n",
    "    d['line3']['Z_Load'] = z_parallel(d['line1']['Z_in'], d['line2']['Z_in'])\n",
    "    do_calcs_for_line(d, 'line3')\n",
    "\n",
    "def make_dict_for_freq(f, Z1_Load, Z2_Load):\n",
    "    velocity_mpers = 2.0e8\n",
    "    d = {\n",
    "        'frequency_Hz':f,\n",
    "        'wavelength_m':velocity_mpers/f,\n",
    "        'line1':{\n",
    "            'Z0':50.,\n",
    "            'Z_Load':Z1_Load,\n",
    "            'length_m':1.0,\n",
    "        },\n",
    "        'line2':{\n",
    "            'Z0':50.,\n",
    "            'Z_Load':Z2_Load,\n",
    "            'length_m':1.0,\n",
    "        },\n",
    "        'line3':{\n",
    "            'Z0':50.,\n",
    "            'length_m':l3_m,\n",
    "        },\n",
    "    }    \n",
    "    return d\n",
    "\n",
    "def make_dict_and_print(f, Z1_Load, Z2_Load):\n",
    "    temp = make_dict_for_freq(f, Z1_Load, 'infinite')\n",
    "    do_calcs(temp)\n",
    "    pp.pprint(temp)\n",
    "    print('\\n')\n",
    "    return temp\n",
    "\n",
    "def print_results(r):\n",
    "    print('  f (Hz)    lambda (m)   Z_in (line 1)       Z_in (line 2)   Z_Load (line 3)     Z_in (line 3)')\n",
    "    for d in r:\n",
    "        print('{:10.1f}   {:6.1f}      {:5.3f}       {:5.3f}    {:5.3f}        {:5.3f}'.format(d['frequency_Hz'],\n",
    "                                                                                       d['wavelength_m'],\n",
    "                                                                                       d['line1']['Z_in'],\n",
    "                                                                                       d['line2']['Z_in'],\n",
    "                                                                                       d['line3']['Z_Load'],\n",
    "                                                                                       d['line3']['Z_in']) )    "
   ]
  },
  {
   "cell_type": "markdown",
   "metadata": {},
   "source": [
    "## Define frequencies"
   ]
  },
  {
   "cell_type": "code",
   "execution_count": 4,
   "metadata": {
    "collapsed": true
   },
   "outputs": [],
   "source": [
    "frequencies = [0.1e6, 5e6, 20e6]"
   ]
  },
  {
   "cell_type": "markdown",
   "metadata": {},
   "source": [
    "## Z_1 = 50 Ohms\n",
    "\n",
    "### Calculations and print everything"
   ]
  },
  {
   "cell_type": "code",
   "execution_count": 5,
   "metadata": {
    "collapsed": false
   },
   "outputs": [
    {
     "name": "stdout",
     "output_type": "stream",
     "text": [
      "{'frequency_Hz': 100000.0,\n",
      " 'line1': {'Z0': 50.0,\n",
      "           'Z_Load': 50.0,\n",
      "           'Z_in': (50+0j),\n",
      "           'gamma_L': 0.0,\n",
      "           'gamma_in': 0j,\n",
      "           'length_m': 1.0},\n",
      " 'line2': {'Z0': 50.0,\n",
      "           'Z_Load': 'infinite',\n",
      "           'Z_in': (3.628824671308984e-16+0.15708014945280785j),\n",
      "           'gamma_L': -1.0,\n",
      "           'gamma_in': (-0.9999802608561371+0.006283143965558951j),\n",
      "           'length_m': 1.0},\n",
      " 'line3': {'Z0': 50.0,\n",
      "           'Z_Load': (0.000493478596572117+0.15707859913897385j),\n",
      "           'Z_in': (0.0004938357938617905+1.3543559733012107j),\n",
      "           'gamma_L': (-0.999960522881141+0.0062829579352431005j),\n",
      "           'gamma_in': (-0.9985139419847631+0.054133451240338915j),\n",
      "           'length_m': 7.62},\n",
      " 'wavelength_m': 2000.0}\n",
      "\n",
      "\n",
      "{'frequency_Hz': 5000000.0,\n",
      " 'line1': {'Z0': 50.0,\n",
      "           'Z_Load': 50.0,\n",
      "           'Z_in': (50+0j),\n",
      "           'gamma_L': 0.0,\n",
      "           'gamma_in': 0j,\n",
      "           'length_m': 1.0},\n",
      " 'line2': {'Z0': 50.0,\n",
      "           'Z_Load': 'infinite',\n",
      "           'Z_in': (1.3322676295501878e-15+7.919222016226814j),\n",
      "           'gamma_L': -1.0,\n",
      "           'gamma_in': (-0.9510565162951535+0.3090169943749474j),\n",
      "           'length_m': 1.0},\n",
      " 'line3': {'Z0': 50.0,\n",
      "           'Z_Load': (1.2235870926211616+7.725424859373685j),\n",
      "           'Z_in': (24.70812902795613+220.47198163151396j),\n",
      "           'gamma_L': (-0.908807919732204+0.28788206745858247j),\n",
      "           'gamma_in': (0.8621346502751003+0.4068559505859961j),\n",
      "           'length_m': 7.62},\n",
      " 'wavelength_m': 40.0}\n",
      "\n",
      "\n",
      "{'frequency_Hz': 20000000.0,\n",
      " 'line1': {'Z0': 50.0,\n",
      "           'Z_Load': 50.0,\n",
      "           'Z_in': (50+0j),\n",
      "           'gamma_L': 0.0,\n",
      "           'gamma_in': 0j,\n",
      "           'length_m': 1.0},\n",
      " 'line2': {'Z0': 50.0,\n",
      "           'Z_Load': 'infinite',\n",
      "           'Z_in': (3.552713678800501e-15+36.32712640026804j),\n",
      "           'gamma_L': -1.0,\n",
      "           'gamma_in': (-0.30901699437494745+0.9510565162951535j),\n",
      "           'length_m': 1.0},\n",
      " 'line3': {'Z0': 50.0,\n",
      "           'Z_Load': (17.274575140626318+23.776412907378834j),\n",
      "           'Z_in': (41.067188164057185-61.72637012249001j),\n",
      "           'gamma_L': (-0.3213929241322175+0.4670112551641127j),\n",
      "           'gamma_in': (0.24758863425668426-0.5099929335972481j),\n",
      "           'length_m': 7.62},\n",
      " 'wavelength_m': 10.0}\n",
      "\n",
      "\n"
     ]
    }
   ],
   "source": [
    "Z1_Load = 50.0\n",
    "results_50 = []\n",
    "for i,f in enumerate(frequencies):\n",
    "    results_50.append(make_dict_and_print(f, Z1_Load, 'infinite'))"
   ]
  },
  {
   "cell_type": "markdown",
   "metadata": {
    "collapsed": true
   },
   "source": [
    "### Print just the main results"
   ]
  },
  {
   "cell_type": "code",
   "execution_count": 6,
   "metadata": {
    "collapsed": false
   },
   "outputs": [
    {
     "name": "stdout",
     "output_type": "stream",
     "text": [
      "  f (Hz)    lambda (m)   Z_in (line 1)       Z_in (line 2)   Z_Load (line 3)     Z_in (line 3)\n",
      "  100000.0   2000.0      50.000+0.000j       0.000+0.157j    0.000+0.157j        0.000+1.354j\n",
      " 5000000.0     40.0      50.000+0.000j       0.000+7.919j    1.224+7.725j        24.708+220.472j\n",
      "20000000.0     10.0      50.000+0.000j       0.000+36.327j    17.275+23.776j        41.067-61.726j\n"
     ]
    }
   ],
   "source": [
    "print_results(results_50)"
   ]
  },
  {
   "cell_type": "markdown",
   "metadata": {},
   "source": [
    "## Z_1 = 25 Ohms\n",
    "\n",
    "### Calculations and print everything"
   ]
  },
  {
   "cell_type": "code",
   "execution_count": 7,
   "metadata": {
    "collapsed": false
   },
   "outputs": [
    {
     "name": "stdout",
     "output_type": "stream",
     "text": [
      "{'frequency_Hz': 100000.0,\n",
      " 'line1': {'Z0': 50.0,\n",
      "           'Z_Load': 25.0,\n",
      "           'Z_in': (25.00018505584353+0.11780982140361027j),\n",
      "           'gamma_L': -0.3333333333333333,\n",
      "           'gamma_in': (-0.33332675361871233+0.0020943813218529837j),\n",
      "           'length_m': 1.0},\n",
      " 'line2': {'Z0': 50.0,\n",
      "           'Z_Load': 'infinite',\n",
      "           'Z_in': (3.628824671308984e-16+0.15708014945280785j),\n",
      "           'gamma_L': -1.0,\n",
      "           'gamma_in': (-0.9999802608561371+0.006283143965558951j),\n",
      "           'length_m': 1.0},\n",
      " 'line3': {'Z0': 50.0,\n",
      "           'Z_Load': (0.00098684031799935+0.15706929863287797j),\n",
      "           'Z_in': (0.00098755461917751+1.3543466657131067j),\n",
      "           'gamma_L': (-0.9999407919180021+0.006282461954141809j),\n",
      "           'gamma_in': (-0.998494257369304+0.05413201151193789j),\n",
      "           'length_m': 7.62},\n",
      " 'wavelength_m': 2000.0}\n",
      "\n",
      "\n",
      "{'frequency_Hz': 5000000.0,\n",
      " 'line1': {'Z0': 50.0,\n",
      "           'Z_Load': 25.0,\n",
      "           'Z_in': (25.467424172496624+5.902400154192592j),\n",
      "           'gamma_L': -0.3333333333333333,\n",
      "           'gamma_in': (-0.31701883876505116+0.10300566479164913j),\n",
      "           'length_m': 1.0},\n",
      " 'line2': {'Z0': 50.0,\n",
      "           'Z_Load': 'infinite',\n",
      "           'Z_in': (1.3322676295501878e-15+7.919222016226814j),\n",
      "           'gamma_L': -1.0,\n",
      "           'gamma_in': (-0.9510565162951535+0.3090169943749474j),\n",
      "           'length_m': 1.0},\n",
      " 'line3': {'Z0': 50.0,\n",
      "           'Z_Load': (1.90223293908436+6.88684650835962j),\n",
      "           'Z_in': (33.13233706656471+202.07764150903478j),\n",
      "           'gamma_L': (-0.8933641935762452+0.2512282776135552j),\n",
      "           'gamma_in': (0.8258875872575386+0.4232315241693726j),\n",
      "           'length_m': 7.62},\n",
      " 'wavelength_m': 40.0}\n",
      "\n",
      "\n",
      "{'frequency_Hz': 20000000.0,\n",
      " 'line1': {'Z0': 50.0,\n",
      "           'Z_Load': 25.0,\n",
      "           'Z_in': (33.7435936639365+24.06904847797699j),\n",
      "           'gamma_L': -0.3333333333333333,\n",
      "           'gamma_in': (-0.10300566479164915+0.31701883876505116j),\n",
      "           'length_m': 1.0},\n",
      " 'line2': {'Z0': 50.0,\n",
      "           'Z_Load': 'infinite',\n",
      "           'Z_in': (3.552713678800501e-15+36.32712640026804j),\n",
      "           'gamma_L': -1.0,\n",
      "           'gamma_in': (-0.30901699437494745+0.9510565162951535j),\n",
      "           'length_m': 1.0},\n",
      " 'line3': {'Z0': 50.0,\n",
      "           'Z_Load': (9.303598523761982+19.67502440324085j),\n",
      "           'Z_in': (36.74721475333719-88.85366672795423j),\n",
      "           'gamma_L': (-0.519037995006321+0.5039678934360811j),\n",
      "           'gamma_in': (0.4374389456588863-0.5762215257133534j),\n",
      "           'length_m': 7.62},\n",
      " 'wavelength_m': 10.0}\n",
      "\n",
      "\n"
     ]
    }
   ],
   "source": [
    "Z1_Load = 25.0\n",
    "results_25 = []\n",
    "for i,f in enumerate(frequencies):\n",
    "    results_25.append(make_dict_and_print(f, Z1_Load, 'infinite'))"
   ]
  },
  {
   "cell_type": "markdown",
   "metadata": {},
   "source": [
    "### Print just the main results"
   ]
  },
  {
   "cell_type": "code",
   "execution_count": 8,
   "metadata": {
    "collapsed": false
   },
   "outputs": [
    {
     "name": "stdout",
     "output_type": "stream",
     "text": [
      "  f (Hz)    lambda (m)   Z_in (line 1)       Z_in (line 2)   Z_Load (line 3)     Z_in (line 3)\n",
      "  100000.0   2000.0      50.000+0.000j       0.000+0.157j    0.000+0.157j        0.000+1.354j\n",
      " 5000000.0     40.0      50.000+0.000j       0.000+7.919j    1.224+7.725j        24.708+220.472j\n",
      "20000000.0     10.0      50.000+0.000j       0.000+36.327j    17.275+23.776j        41.067-61.726j\n"
     ]
    }
   ],
   "source": [
    "print_results(results_50)"
   ]
  },
  {
   "cell_type": "code",
   "execution_count": null,
   "metadata": {
    "collapsed": true
   },
   "outputs": [],
   "source": []
  }
 ],
 "metadata": {
  "anaconda-cloud": {},
  "kernelspec": {
   "display_name": "Python [conda root]",
   "language": "python",
   "name": "conda-root-py"
  },
  "language_info": {
   "codemirror_mode": {
    "name": "ipython",
    "version": 3
   },
   "file_extension": ".py",
   "mimetype": "text/x-python",
   "name": "python",
   "nbconvert_exporter": "python",
   "pygments_lexer": "ipython3",
   "version": "3.5.2"
  },
  "latex_envs": {
   "LaTeX_envs_menu_present": true,
   "bibliofile": "biblio.bib",
   "cite_by": "apalike",
   "current_citInitial": 1,
   "eqLabelWithNumbers": true,
   "eqNumInitial": 1,
   "labels_anchors": false,
   "latex_user_defs": false,
   "report_style_numbering": false,
   "user_envs_cfg": false
  },
  "toc": {
   "colors": {
    "hover_highlight": "#DAA520",
    "running_highlight": "#FF0000",
    "selected_highlight": "#FFD700"
   },
   "moveMenuLeft": true,
   "nav_menu": {
    "height": "31px",
    "width": "252px"
   },
   "navigate_menu": true,
   "number_sections": true,
   "sideBar": true,
   "threshold": 4,
   "toc_cell": false,
   "toc_section_display": "block",
   "toc_window_display": false
  }
 },
 "nbformat": 4,
 "nbformat_minor": 1
}
