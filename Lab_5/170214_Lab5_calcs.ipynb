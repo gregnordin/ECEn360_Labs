{
 "cells": [
  {
   "cell_type": "markdown",
   "metadata": {},
   "source": [
    "# Calculate Z_in for the following circuit\n",
    "\n",
    "<img src=\"Circuit_Lab5.png\">\n",
    "\n",
    "## Imports and function definitions"
   ]
  },
  {
   "cell_type": "code",
   "execution_count": 1,
   "metadata": {
    "collapsed": true
   },
   "outputs": [],
   "source": [
    "import cmath\n",
    "import matplotlib.pyplot as plt\n",
    "%matplotlib inline\n",
    "import numpy as np\n",
    "import pprint\n",
    "pp = pprint.PrettyPrinter(indent=1)"
   ]
  },
  {
   "cell_type": "code",
   "execution_count": 2,
   "metadata": {
    "collapsed": true
   },
   "outputs": [],
   "source": [
    "l3_ft = 25.\n",
    "ft_to_m = 0.3048\n",
    "l3_m = l3_ft * ft_to_m"
   ]
  },
  {
   "cell_type": "code",
   "execution_count": 17,
   "metadata": {},
   "outputs": [],
   "source": [
    "def wavelength_m(freq_Hz):\n",
    "    return 2e8/freq_Hz\n",
    "\n",
    "wavelength_m_vec = np.vectorize(wavelength_m)\n",
    "\n",
    "def beta(freq_Hz):\n",
    "    return 2*cmath.pi/wavelength_m(freq_Hz)\n",
    "\n",
    "def gamma_L(Z0, ZL):\n",
    "    if ZL == 0:\n",
    "        return -1.0\n",
    "    elif ZL == 'infinite' or ZL == 'open':\n",
    "        return 1.0\n",
    "    else:\n",
    "        return (ZL - Z0)/(ZL + Z0)\n",
    "\n",
    "def gamma_in(Z0, ZL, l_m, wavelength_m):\n",
    "    gamma_load = gamma_L(Z0, ZL)\n",
    "    beta = 2*cmath.pi/wavelength_m\n",
    "    temp = gamma_load * cmath.exp(-1j * 2 * beta * l_m)\n",
    "    return temp\n",
    "\n",
    "def input_impedance(Z0, ZL, l_m, wavelength_m):\n",
    "    temp = gamma_in(Z0, ZL, l_m, wavelength_m)\n",
    "    return Z0 * (1 + temp) / (1 - temp)\n",
    "    \n",
    "def z_parallel(Z1, Z2):\n",
    "    return Z1*Z2 / (Z1 + Z2)\n",
    "\n",
    "def do_calcs_for_line(d, key):\n",
    "    d[key]['gamma_L'] = gamma_L(d[key]['Z0'], d[key]['Z_Load'])\n",
    "    d[key]['gamma_in'] = gamma_in(d[key]['Z0'], d[key]['Z_Load'], \n",
    "                                  d[key]['length_m'], \n",
    "                                  d['wavelength_m'] )\n",
    "    d[key]['Z_in'] = input_impedance(d[key]['Z0'], d[key]['Z_Load'], \n",
    "                                  d[key]['length_m'], \n",
    "                                  d['wavelength_m'] )\n",
    "\n",
    "def calc_v0plus(d, f, V_g, Z_g):\n",
    "    d['V_g'] = V_g\n",
    "    d['Z_g'] = Z_g\n",
    "    d['V_in'] = V_g * d['line3']['Z_in'] / (Z_g + d['line3']['Z_in'])\n",
    "    d['V_0_plus'] = d['V_in'] * cmath.exp(-1j * beta(f) * d['line3']['length_m']) / (1.0 + d['line3']['gamma_in'])\n",
    "    \n",
    "\n",
    "def calc_V_z(V_0_plus, beta, gamma_L, z):\n",
    "    return V_0_plus * cmath.exp(-1j * beta * z) + gamma_L * V_0_plus * cmath.exp(1j * beta * z)\n",
    "    \n",
    "\n",
    "def do_calcs(d):\n",
    "    do_calcs_for_line(d, 'line1')\n",
    "    do_calcs_for_line(d, 'line2')\n",
    "    d['line3']['Z_Load'] = z_parallel(d['line1']['Z_in'], d['line2']['Z_in'])\n",
    "    do_calcs_for_line(d, 'line3')\n",
    "\n",
    "\n",
    "def make_dict_for_freq(f, Z1_Load, Z2_Load):\n",
    "    velocity_mpers = 2.0e8\n",
    "    d = {\n",
    "        'frequency_Hz':f,\n",
    "        'wavelength_m':velocity_mpers/f,\n",
    "        'line1':{\n",
    "            'Z0':50.,\n",
    "            'Z_Load':Z1_Load,\n",
    "            'length_m':1.0,\n",
    "        },\n",
    "        'line2':{\n",
    "            'Z0':50.,\n",
    "            'Z_Load':Z2_Load,\n",
    "            'length_m':1.0,\n",
    "        },\n",
    "        'line3':{\n",
    "            'Z0':50.,\n",
    "            'length_m':l3_m,\n",
    "        },\n",
    "    }    \n",
    "    return d\n",
    "\n",
    "def make_dict_and_print(f, Z1_Load, Z2_Load):\n",
    "    temp = make_dict_for_freq(f, Z1_Load, 'infinite')\n",
    "    do_calcs(temp)\n",
    "    pp.pprint(temp)\n",
    "    print('\\n')\n",
    "    return temp\n",
    "\n",
    "def print_results(r):\n",
    "    print('  f (Hz)    lambda (m)   Z_in (line 1)       Z_in (line 2)   Z_Load (line 3)     Z_in (line 3)')\n",
    "    for d in r:\n",
    "        print('{:10.1f}   {:6.1f}      {:5.3f}       {:5.3f}    {:5.3f}        {:5.3f}'.format(d['frequency_Hz'],\n",
    "                                                                                       d['wavelength_m'],\n",
    "                                                                                       d['line1']['Z_in'],\n",
    "                                                                                       d['line2']['Z_in'],\n",
    "                                                                                       d['line3']['Z_Load'],\n",
    "                                                                                       d['line3']['Z_in']) )    "
   ]
  },
  {
   "cell_type": "markdown",
   "metadata": {},
   "source": [
    "# Develop calculation for V_0_plus"
   ]
  },
  {
   "cell_type": "code",
   "execution_count": 18,
   "metadata": {},
   "outputs": [
    {
     "name": "stdout",
     "output_type": "stream",
     "text": [
      "{'V_0_plus': (0.499856738677345-0.011968324813793521j),\n",
      " 'V_g': 1.0,\n",
      " 'V_in': (0.3335628443657501+0.008673669317393542j),\n",
      " 'Z_g': 50.0,\n",
      " 'frequency_Hz': 100000.0,\n",
      " 'line1': {'Z0': 50.0,\n",
      "           'Z_Load': 25.0,\n",
      "           'Z_in': (25.00018505584353+0.11780982140361027j),\n",
      "           'gamma_L': -0.3333333333333333,\n",
      "           'gamma_in': (-0.33332675361871233+0.0020943813218529837j),\n",
      "           'length_m': 1.0},\n",
      " 'line2': {'Z0': 50.0,\n",
      "           'Z_Load': 'infinite',\n",
      "           'Z_in': (3.67617902513294e-11-15915.441949277521j),\n",
      "           'gamma_L': 1.0,\n",
      "           'gamma_in': (0.9999802608561371-0.006283143965558951j),\n",
      "           'length_m': 1.0},\n",
      " 'line3': {'Z0': 50.0,\n",
      "           'Z_Load': (25.00049348590228+0.07853929954653503j),\n",
      "           'Z_in': (25.013122423552122+0.9762946331343648j),\n",
      "           'gamma_L': (-0.3333230981944429+0.0013962343090594624j),\n",
      "           'gamma_in': (-0.3328743112684997+0.017347338634787084j),\n",
      "           'length_m': 7.62},\n",
      " 'wavelength_m': 2000.0}\n"
     ]
    }
   ],
   "source": [
    "f = 0.1e6\n",
    "Z1_Load = 25.0\n",
    "V_g = 1.0\n",
    "Z_g = 50.0\n",
    "\n",
    "temp = make_dict_for_freq(f, Z1_Load, 'infinite')\n",
    "do_calcs(temp)\n",
    "\n",
    "calc_v0plus(temp, f, V_g, Z_g)\n",
    "pp.pprint(temp)"
   ]
  },
  {
   "cell_type": "code",
   "execution_count": 19,
   "metadata": {},
   "outputs": [
    {
     "data": {
      "text/plain": [
       "(0.3335628443657501+0.00867366931739354j)"
      ]
     },
     "execution_count": 19,
     "metadata": {},
     "output_type": "execute_result"
    }
   ],
   "source": [
    "calc_V_z(temp['V_0_plus'], beta(temp['frequency_Hz']), temp['line3']['gamma_L'], -temp['line3']['length_m'])"
   ]
  },
  {
   "cell_type": "code",
   "execution_count": 20,
   "metadata": {},
   "outputs": [
    {
     "data": {
      "text/plain": [
       "0.33367559647177847"
      ]
     },
     "execution_count": 20,
     "metadata": {},
     "output_type": "execute_result"
    }
   ],
   "source": [
    "abs(calc_V_z(temp['V_0_plus'], beta(temp['frequency_Hz']), temp['line3']['gamma_L'], -temp['line3']['length_m']))"
   ]
  },
  {
   "cell_type": "markdown",
   "metadata": {},
   "source": [
    "# Plot voltage at oscilloscope vs frequency\n",
    "\n",
    "## Z_1 = 25 Ohms"
   ]
  },
  {
   "cell_type": "code",
   "execution_count": 54,
   "metadata": {},
   "outputs": [
    {
     "data": {
      "text/plain": [
       "<matplotlib.text.Text at 0x118c7eeb8>"
      ]
     },
     "execution_count": 54,
     "metadata": {},
     "output_type": "execute_result"
    },
    {
     "data": {
      "image/png": "[encoded data removed]",
      "text/plain": [
       "<matplotlib.figure.Figure at 0x118e331d0>"
      ]
     },
     "metadata": {},
     "output_type": "display_data"
    }
   ],
   "source": [
    "Z1_Load = 25.0\n",
    "V_g = 1.0\n",
    "Z_g = 50.0\n",
    "freq_max = 20e6\n",
    "\n",
    "temp1 = np.array([0.1e6])\n",
    "temp2 = np.arange(1e6, freq_max+0.5e6, 0.5e6)\n",
    "frequencies = np.concatenate( (temp1, temp2), axis=0 )\n",
    "\n",
    "voltage_phasor_25 = []\n",
    "\n",
    "for i,f in enumerate(frequencies):\n",
    "    temp = make_dict_for_freq(f, Z1_Load, 'infinite')\n",
    "    do_calcs(temp)\n",
    "    calc_v0plus(temp, f, V_g, Z_g)\n",
    "    temp['voltage_phasor_magn'] = abs(calc_V_z(temp['V_0_plus'], beta(temp['frequency_Hz']), temp['line3']['gamma_L'], -temp['line3']['length_m']))\n",
    "    voltage_phasor_25.append(temp)\n",
    "\n",
    "freqs = []\n",
    "voltage_phasor_magnitudes = []\n",
    "for d in voltage_phasor_25:\n",
    "    freqs.append(d['frequency_Hz'])\n",
    "    voltage_phasor_magnitudes.append(d['voltage_phasor_magn'])\n",
    "\n",
    "fig, ax = plt.subplots()\n",
    "ax.plot(freqs, voltage_phasor_magnitudes)\n",
    "# ax.plot(frequencies, voltage_phasor_magnitudes)\n",
    "ax.set_xlabel('Frequency (Hz)')\n",
    "ax.set_ylabel('Voltage (V)')"
   ]
  },
  {
   "cell_type": "markdown",
   "metadata": {},
   "source": [
    "## Z_1 = 50 Ohms"
   ]
  },
  {
   "cell_type": "code",
   "execution_count": 56,
   "metadata": {},
   "outputs": [
    {
     "data": {
      "text/plain": [
       "<matplotlib.text.Text at 0x119008c18>"
      ]
     },
     "execution_count": 56,
     "metadata": {},
     "output_type": "execute_result"
    },
    {
     "data": {
      "image/png": "[encoded data removed]",
      "text/plain": [
       "<matplotlib.figure.Figure at 0x119027978>"
      ]
     },
     "metadata": {},
     "output_type": "display_data"
    }
   ],
   "source": [
    "Z1_Load = 50.0\n",
    "V_g = 1.0\n",
    "Z_g = 50.0\n",
    "freq_max = 20e6\n",
    "\n",
    "temp1 = np.array([0.1e6])\n",
    "temp2 = np.arange(1e6, freq_max+0.5e6, 0.5e6)\n",
    "frequencies = np.concatenate( (temp1, temp2), axis=0 )\n",
    "\n",
    "voltage_phasor_50 = []\n",
    "\n",
    "for i,f in enumerate(frequencies):\n",
    "    temp = make_dict_for_freq(f, Z1_Load, 'infinite')\n",
    "    do_calcs(temp)\n",
    "    calc_v0plus(temp, f, V_g, Z_g)\n",
    "    temp['voltage_phasor_magn'] = abs(calc_V_z(temp['V_0_plus'], beta(temp['frequency_Hz']), temp['line3']['gamma_L'], -temp['line3']['length_m']))\n",
    "    voltage_phasor_50.append(temp)\n",
    "\n",
    "freqs = []\n",
    "voltage_phasor_magnitudes = []\n",
    "for d in voltage_phasor_50:\n",
    "    freqs.append(d['frequency_Hz'])\n",
    "    voltage_phasor_magnitudes.append(d['voltage_phasor_magn'])\n",
    "\n",
    "fig, ax = plt.subplots()\n",
    "ax.plot(freqs, voltage_phasor_magnitudes)\n",
    "# ax.plot(frequencies, voltage_phasor_magnitudes)\n",
    "ax.set_xlabel('Frequency (Hz)')\n",
    "ax.set_ylabel('Voltage (V)')"
   ]
  },
  {
   "cell_type": "markdown",
   "metadata": {},
   "source": [
    "# Manual calculations\n",
    "\n",
    "## Define frequencies"
   ]
  },
  {
   "cell_type": "code",
   "execution_count": 4,
   "metadata": {
    "collapsed": true
   },
   "outputs": [],
   "source": [
    "frequencies = [0.1e6, 5e6, 20e6]"
   ]
  },
  {
   "cell_type": "markdown",
   "metadata": {},
   "source": [
    "## Z_1 = 50 Ohms\n",
    "\n",
    "### Calculations and print everything"
   ]
  },
  {
   "cell_type": "code",
   "execution_count": 5,
   "metadata": {},
   "outputs": [
    {
     "name": "stdout",
     "output_type": "stream",
     "text": [
      "{'frequency_Hz': 100000.0,\n",
      " 'line1': {'Z0': 50.0,\n",
      "           'Z_Load': 50.0,\n",
      "           'Z_in': (50+0j),\n",
      "           'gamma_L': 0.0,\n",
      "           'gamma_in': 0j,\n",
      "           'length_m': 1.0},\n",
      " 'line2': {'Z0': 50.0,\n",
      "           'Z_Load': 'infinite',\n",
      "           'Z_in': (3.67617902513294e-11-15915.441949277521j),\n",
      "           'gamma_L': 1.0,\n",
      "           'gamma_in': (0.9999802608561371-0.006283143965558951j),\n",
      "           'length_m': 1.0},\n",
      " 'line3': {'Z0': 50.0,\n",
      "           'Z_Load': (49.99950652140343-0.1570785991389738j),\n",
      "           'Z_in': (49.9919902922275-0.15686320561289757j),\n",
      "           'gamma_L': (-2.4674112470342486e-06-0.0015707976187148034j),\n",
      "           'gamma_in': (-7.764230195323664e-05-0.0015688795109968649j),\n",
      "           'length_m': 7.62},\n",
      " 'wavelength_m': 2000.0}\n",
      "\n",
      "\n",
      "{'frequency_Hz': 5000000.0,\n",
      " 'line1': {'Z0': 50.0,\n",
      "           'Z_Load': 50.0,\n",
      "           'Z_in': (50+0j),\n",
      "           'gamma_L': 0.0,\n",
      "           'gamma_in': 0j,\n",
      "           'length_m': 1.0},\n",
      " 'line2': {'Z0': 50.0,\n",
      "           'Z_Load': 'infinite',\n",
      "           'Z_in': (5.6077378426833525e-14-315.68757573375217j),\n",
      "           'gamma_L': 1.0,\n",
      "           'gamma_in': (0.9510565162951535-0.3090169943749474j),\n",
      "           'length_m': 1.0},\n",
      " 'line3': {'Z0': 50.0,\n",
      "           'Z_Load': (48.776412907378834-7.7254248593736845j),\n",
      "           'Z_in': (45.002889731192916+5.610274779897659j),\n",
      "           'gamma_L': (-0.006232322299955058-0.07869866872256788j),\n",
      "           'gamma_in': (-0.04894154205304229+0.061943908186562584j),\n",
      "           'length_m': 7.62},\n",
      " 'wavelength_m': 40.0}\n",
      "\n",
      "\n",
      "{'frequency_Hz': 20000000.0,\n",
      " 'line1': {'Z0': 50.0,\n",
      "           'Z_Load': 50.0,\n",
      "           'Z_in': (50+0j),\n",
      "           'gamma_L': 0.0,\n",
      "           'gamma_in': 0j,\n",
      "           'length_m': 1.0},\n",
      " 'line2': {'Z0': 50.0,\n",
      "           'Z_Load': 'infinite',\n",
      "           'Z_in': (4.889890876111642e-15-68.81909602355869j),\n",
      "           'gamma_L': 1.0,\n",
      "           'gamma_in': (0.30901699437494745-0.9510565162951535j),\n",
      "           'length_m': 1.0},\n",
      " 'line3': {'Z0': 50.0,\n",
      "           'Z_Load': (32.72542485937368-23.776412907378834j),\n",
      "           'Z_in': (55.93780413651965+37.96208977432033j),\n",
      "           'gamma_L': (-0.1165812488524867-0.3209206463730266j),\n",
      "           'gamma_in': (0.16346874824413773+0.2997652701698136j),\n",
      "           'length_m': 7.62},\n",
      " 'wavelength_m': 10.0}\n",
      "\n",
      "\n"
     ]
    }
   ],
   "source": [
    "Z1_Load = 50.0\n",
    "results_50 = []\n",
    "for i,f in enumerate(frequencies):\n",
    "    results_50.append(make_dict_and_print(f, Z1_Load, 'infinite'))"
   ]
  },
  {
   "cell_type": "markdown",
   "metadata": {
    "collapsed": true
   },
   "source": [
    "### Print just the main results"
   ]
  },
  {
   "cell_type": "code",
   "execution_count": 6,
   "metadata": {},
   "outputs": [
    {
     "name": "stdout",
     "output_type": "stream",
     "text": [
      "  f (Hz)    lambda (m)   Z_in (line 1)       Z_in (line 2)   Z_Load (line 3)     Z_in (line 3)\n",
      "  100000.0   2000.0      50.000+0.000j       0.000-15915.442j    50.000-0.157j        49.992-0.157j\n",
      " 5000000.0     40.0      50.000+0.000j       0.000-315.688j    48.776-7.725j        45.003+5.610j\n",
      "20000000.0     10.0      50.000+0.000j       0.000-68.819j    32.725-23.776j        55.938+37.962j\n"
     ]
    }
   ],
   "source": [
    "print_results(results_50)"
   ]
  },
  {
   "cell_type": "markdown",
   "metadata": {},
   "source": [
    "## Z_1 = 25 Ohms\n",
    "\n",
    "### Calculations and print everything"
   ]
  },
  {
   "cell_type": "code",
   "execution_count": 7,
   "metadata": {},
   "outputs": [
    {
     "name": "stdout",
     "output_type": "stream",
     "text": [
      "{'frequency_Hz': 100000.0,\n",
      " 'line1': {'Z0': 50.0,\n",
      "           'Z_Load': 25.0,\n",
      "           'Z_in': (25.00018505584353+0.11780982140361027j),\n",
      "           'gamma_L': -0.3333333333333333,\n",
      "           'gamma_in': (-0.33332675361871233+0.0020943813218529837j),\n",
      "           'length_m': 1.0},\n",
      " 'line2': {'Z0': 50.0,\n",
      "           'Z_Load': 'infinite',\n",
      "           'Z_in': (3.67617902513294e-11-15915.441949277521j),\n",
      "           'gamma_L': 1.0,\n",
      "           'gamma_in': (0.9999802608561371-0.006283143965558951j),\n",
      "           'length_m': 1.0},\n",
      " 'line3': {'Z0': 50.0,\n",
      "           'Z_Load': (25.00049348590228+0.07853929954653503j),\n",
      "           'Z_in': (25.013122423552122+0.9762946331343648j),\n",
      "           'gamma_L': (-0.3333230981944429+0.0013962343090594624j),\n",
      "           'gamma_in': (-0.3328743112684997+0.017347338634787084j),\n",
      "           'length_m': 7.62},\n",
      " 'wavelength_m': 2000.0}\n",
      "\n",
      "\n",
      "{'frequency_Hz': 5000000.0,\n",
      " 'line1': {'Z0': 50.0,\n",
      "           'Z_Load': 25.0,\n",
      "           'Z_in': (25.467424172496624+5.902400154192592j),\n",
      "           'gamma_L': -0.3333333333333333,\n",
      "           'gamma_in': (-0.31701883876505116+0.10300566479164913j),\n",
      "           'length_m': 1.0},\n",
      " 'line2': {'Z0': 50.0,\n",
      "           'Z_Load': 'infinite',\n",
      "           'Z_in': (5.6077378426833525e-14-315.68757573375217j),\n",
      "           'gamma_L': 1.0,\n",
      "           'gamma_in': (0.9510565162951535-0.3090169943749474j),\n",
      "           'length_m': 1.0},\n",
      " 'line3': {'Z0': 50.0,\n",
      "           'Z_Load': (26.26959907408997+3.855237330165883j),\n",
      "           'Z_in': (80.75052653668034+28.829016855125523j),\n",
      "           'gamma_L': (-0.30779691292008377+0.06610586052861543j),\n",
      "           'gamma_in': (0.27064263516923626+0.16081507525109107j),\n",
      "           'length_m': 7.62},\n",
      " 'wavelength_m': 40.0}\n",
      "\n",
      "\n",
      "{'frequency_Hz': 20000000.0,\n",
      " 'line1': {'Z0': 50.0,\n",
      "           'Z_Load': 25.0,\n",
      "           'Z_in': (33.7435936639365+24.06904847797699j),\n",
      "           'gamma_L': -0.3333333333333333,\n",
      "           'gamma_in': (-0.10300566479164915+0.31701883876505116j),\n",
      "           'length_m': 1.0},\n",
      " 'line2': {'Z0': 50.0,\n",
      "           'Z_Load': 'infinite',\n",
      "           'Z_in': (4.889890876111642e-15-68.81909602355869j),\n",
      "           'gamma_L': 1.0,\n",
      "           'gamma_in': (0.30901699437494745-0.9510565162951535j),\n",
      "           'length_m': 1.0},\n",
      " 'line3': {'Z0': 50.0,\n",
      "           'Z_Load': (50.876134186473166-1.348231881032459j),\n",
      "           'Z_in': (49.306988328299326+1.4231432986419619j),\n",
      "           'gamma_L': (0.008862293525465291-0.013246775019076278j),\n",
      "           'gamma_in': (-0.0067717173751399296+0.014427790500584466j),\n",
      "           'length_m': 7.62},\n",
      " 'wavelength_m': 10.0}\n",
      "\n",
      "\n"
     ]
    }
   ],
   "source": [
    "Z1_Load = 25.0\n",
    "results_25 = []\n",
    "for i,f in enumerate(frequencies):\n",
    "    results_25.append(make_dict_and_print(f, Z1_Load, 'infinite'))"
   ]
  },
  {
   "cell_type": "markdown",
   "metadata": {},
   "source": [
    "### Print just the main results"
   ]
  },
  {
   "cell_type": "code",
   "execution_count": 8,
   "metadata": {},
   "outputs": [
    {
     "name": "stdout",
     "output_type": "stream",
     "text": [
      "  f (Hz)    lambda (m)   Z_in (line 1)       Z_in (line 2)   Z_Load (line 3)     Z_in (line 3)\n",
      "  100000.0   2000.0      50.000+0.000j       0.000-15915.442j    50.000-0.157j        49.992-0.157j\n",
      " 5000000.0     40.0      50.000+0.000j       0.000-315.688j    48.776-7.725j        45.003+5.610j\n",
      "20000000.0     10.0      50.000+0.000j       0.000-68.819j    32.725-23.776j        55.938+37.962j\n"
     ]
    }
   ],
   "source": [
    "print_results(results_50)"
   ]
  },
  {
   "cell_type": "code",
   "execution_count": 9,
   "metadata": {},
   "outputs": [
    {
     "name": "stdout",
     "output_type": "stream",
     "text": [
      "  f (Hz)    lambda (m)   Z_in (line 1)       Z_in (line 2)   Z_Load (line 3)     Z_in (line 3)\n",
      "  100000.0   2000.0      25.000+0.118j       0.000-15915.442j    25.000+0.079j        25.013+0.976j\n",
      " 5000000.0     40.0      25.467+5.902j       0.000-315.688j    26.270+3.855j        80.751+28.829j\n",
      "20000000.0     10.0      33.744+24.069j       0.000-68.819j    50.876-1.348j        49.307+1.423j\n"
     ]
    }
   ],
   "source": [
    "print_results(results_25)"
   ]
  },
  {
   "cell_type": "code",
   "execution_count": null,
   "metadata": {
    "collapsed": true
   },
   "outputs": [],
   "source": []
  }
 ],
 "metadata": {
  "anaconda-cloud": {},
  "kernelspec": {
   "display_name": "Python [conda root]",
   "language": "python",
   "name": "conda-root-py"
  },
  "language_info": {
   "codemirror_mode": {
    "name": "ipython",
    "version": 3
   },
   "file_extension": ".py",
   "mimetype": "text/x-python",
   "name": "python",
   "nbconvert_exporter": "python",
   "pygments_lexer": "ipython3",
   "version": "3.6.2"
  },
  "latex_envs": {
   "LaTeX_envs_menu_present": true,
   "bibliofile": "biblio.bib",
   "cite_by": "apalike",
   "current_citInitial": 1,
   "eqLabelWithNumbers": true,
   "eqNumInitial": 1,
   "labels_anchors": false,
   "latex_user_defs": false,
   "report_style_numbering": false,
   "user_envs_cfg": false
  },
  "toc": {
   "colors": {
    "hover_highlight": "#DAA520",
    "navigate_num": "#000000",
    "navigate_text": "#333333",
    "running_highlight": "#FF0000",
    "selected_highlight": "#FFD700",
    "sidebar_border": "#EEEEEE",
    "wrapper_background": "#FFFFFF"
   },
   "moveMenuLeft": true,
   "nav_menu": {
    "height": "31px",
    "width": "252px"
   },
   "navigate_menu": true,
   "number_sections": true,
   "sideBar": true,
   "threshold": 4,
   "toc_cell": false,
   "toc_position": {
    "height": "837px",
    "left": "0px",
    "right": "1300px",
    "top": "107px",
    "width": "380px"
   },
   "toc_section_display": "block",
   "toc_window_display": true,
   "widenNotebook": false
  }
 },
 "nbformat": 4,
 "nbformat_minor": 1
}
